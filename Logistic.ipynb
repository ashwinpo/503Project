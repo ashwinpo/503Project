{
 "cells": [
  {
   "cell_type": "code",
   "execution_count": 2,
   "id": "0d32a1ab",
   "metadata": {},
   "outputs": [
    {
     "name": "stderr",
     "output_type": "stream",
     "text": [
      "── \u001b[1mAttaching packages\u001b[22m ─────────────────────────────────────── tidyverse 1.3.1 ──\n",
      "\n",
      "\u001b[32m✔\u001b[39m \u001b[34mggplot2\u001b[39m 3.3.5     \u001b[32m✔\u001b[39m \u001b[34mpurrr  \u001b[39m 0.3.4\n",
      "\u001b[32m✔\u001b[39m \u001b[34mtibble \u001b[39m 3.1.6     \u001b[32m✔\u001b[39m \u001b[34mdplyr  \u001b[39m 1.0.8\n",
      "\u001b[32m✔\u001b[39m \u001b[34mtidyr  \u001b[39m 1.2.0     \u001b[32m✔\u001b[39m \u001b[34mstringr\u001b[39m 1.4.0\n",
      "\u001b[32m✔\u001b[39m \u001b[34mreadr  \u001b[39m 2.1.2     \u001b[32m✔\u001b[39m \u001b[34mforcats\u001b[39m 0.5.1\n",
      "\n",
      "── \u001b[1mConflicts\u001b[22m ────────────────────────────────────────── tidyverse_conflicts() ──\n",
      "\u001b[31m✖\u001b[39m \u001b[34mdplyr\u001b[39m::\u001b[32mfilter()\u001b[39m masks \u001b[34mstats\u001b[39m::filter()\n",
      "\u001b[31m✖\u001b[39m \u001b[34mdplyr\u001b[39m::\u001b[32mlag()\u001b[39m    masks \u001b[34mstats\u001b[39m::lag()\n",
      "\n",
      "Loading required package: lattice\n",
      "\n",
      "\n",
      "Attaching package: ‘caret’\n",
      "\n",
      "\n",
      "The following object is masked from ‘package:purrr’:\n",
      "\n",
      "    lift\n",
      "\n",
      "\n"
     ]
    }
   ],
   "source": [
    "library(tidyverse)\n",
    "library(caret)"
   ]
  },
  {
   "cell_type": "code",
   "execution_count": 3,
   "id": "c806f4b8",
   "metadata": {},
   "outputs": [],
   "source": [
    "train = read.csv(\"tf-train.csv\")\n",
    "test = read.csv(\"tf-test.csv\")"
   ]
  },
  {
   "cell_type": "code",
   "execution_count": 4,
   "id": "74e09229",
   "metadata": {},
   "outputs": [],
   "source": [
    "train = train %>% select(-reuters)\n",
    "test = test %>% select(-reuters)"
   ]
  },
  {
   "cell_type": "code",
   "execution_count": 5,
   "id": "58214071",
   "metadata": {},
   "outputs": [
    {
     "data": {
      "text/html": [
       "<style>\n",
       ".list-inline {list-style: none; margin:0; padding: 0}\n",
       ".list-inline>li {display: inline-block}\n",
       ".list-inline>li:not(:last-child)::after {content: \"\\00b7\"; padding: 0 .5ex}\n",
       "</style>\n",
       "<ol class=list-inline><li>33691</li><li>175</li></ol>\n"
      ],
      "text/latex": [
       "\\begin{enumerate*}\n",
       "\\item 33691\n",
       "\\item 175\n",
       "\\end{enumerate*}\n"
      ],
      "text/markdown": [
       "1. 33691\n",
       "2. 175\n",
       "\n",
       "\n"
      ],
      "text/plain": [
       "[1] 33691   175"
      ]
     },
     "metadata": {},
     "output_type": "display_data"
    }
   ],
   "source": [
    "dim(train)"
   ]
  },
  {
   "cell_type": "code",
   "execution_count": 6,
   "id": "e2bf6148",
   "metadata": {},
   "outputs": [
    {
     "data": {
      "text/html": [
       "<style>\n",
       ".list-inline {list-style: none; margin:0; padding: 0}\n",
       ".list-inline>li {display: inline-block}\n",
       ".list-inline>li:not(:last-child)::after {content: \"\\00b7\"; padding: 0 .5ex}\n",
       "</style>\n",
       "<ol class=list-inline><li>11228</li><li>175</li></ol>\n"
      ],
      "text/latex": [
       "\\begin{enumerate*}\n",
       "\\item 11228\n",
       "\\item 175\n",
       "\\end{enumerate*}\n"
      ],
      "text/markdown": [
       "1. 11228\n",
       "2. 175\n",
       "\n",
       "\n"
      ],
      "text/plain": [
       "[1] 11228   175"
      ]
     },
     "metadata": {},
     "output_type": "display_data"
    }
   ],
   "source": [
    "dim(test)"
   ]
  },
  {
   "cell_type": "code",
   "execution_count": 7,
   "id": "762eadfc",
   "metadata": {},
   "outputs": [],
   "source": [
    "## set the seed to make your partition reproducible\n",
    "#set.seed(503)\n",
    "\n",
    "#sub_ind <- sample(seq_len(nrow(train)), size = floor(0.1 * nrow(train)))\n",
    "\n",
    "#sub <- train[sub_ind, ]\n",
    "#rest = train[-sub_ind,]"
   ]
  },
  {
   "cell_type": "code",
   "execution_count": 8,
   "id": "fe6a5927",
   "metadata": {},
   "outputs": [],
   "source": [
    "#sub = sub %>% select(-title, - date, -subject)\n",
    "#rest = rest %>% select(-title, - date, -subject)"
   ]
  },
  {
   "cell_type": "code",
   "execution_count": 9,
   "id": "29f8411f",
   "metadata": {},
   "outputs": [],
   "source": [
    "# define training control\n",
    "train_control <- trainControl(method = \"cv\", number = 10)\n",
    "\n",
    "# train the model on training set\n",
    "model <- train(as.factor(label) ~ .,\n",
    "               data = train,\n",
    "               trControl = train_control,\n",
    "               method = \"glm\",\n",
    "               family=binomial())\n",
    "\n",
    "# print cv scores\n",
    "#summary(model)"
   ]
  },
  {
   "cell_type": "code",
   "execution_count": 10,
   "id": "6e212971",
   "metadata": {},
   "outputs": [
    {
     "data": {
      "text/html": [
       "<table class=\"dataframe\">\n",
       "<caption>A data.frame: 1 × 5</caption>\n",
       "<thead>\n",
       "\t<tr><th></th><th scope=col>parameter</th><th scope=col>Accuracy</th><th scope=col>Kappa</th><th scope=col>AccuracySD</th><th scope=col>KappaSD</th></tr>\n",
       "\t<tr><th></th><th scope=col>&lt;chr&gt;</th><th scope=col>&lt;dbl&gt;</th><th scope=col>&lt;dbl&gt;</th><th scope=col>&lt;dbl&gt;</th><th scope=col>&lt;dbl&gt;</th></tr>\n",
       "</thead>\n",
       "<tbody>\n",
       "\t<tr><th scope=row>1</th><td>none</td><td>0.9411415</td><td>0.8821121</td><td>0.00402476</td><td>0.008078483</td></tr>\n",
       "</tbody>\n",
       "</table>\n"
      ],
      "text/latex": [
       "A data.frame: 1 × 5\n",
       "\\begin{tabular}{r|lllll}\n",
       "  & parameter & Accuracy & Kappa & AccuracySD & KappaSD\\\\\n",
       "  & <chr> & <dbl> & <dbl> & <dbl> & <dbl>\\\\\n",
       "\\hline\n",
       "\t1 & none & 0.9411415 & 0.8821121 & 0.00402476 & 0.008078483\\\\\n",
       "\\end{tabular}\n"
      ],
      "text/markdown": [
       "\n",
       "A data.frame: 1 × 5\n",
       "\n",
       "| <!--/--> | parameter &lt;chr&gt; | Accuracy &lt;dbl&gt; | Kappa &lt;dbl&gt; | AccuracySD &lt;dbl&gt; | KappaSD &lt;dbl&gt; |\n",
       "|---|---|---|---|---|---|\n",
       "| 1 | none | 0.9411415 | 0.8821121 | 0.00402476 | 0.008078483 |\n",
       "\n"
      ],
      "text/plain": [
       "  parameter Accuracy  Kappa     AccuracySD KappaSD    \n",
       "1 none      0.9411415 0.8821121 0.00402476 0.008078483"
      ]
     },
     "metadata": {},
     "output_type": "display_data"
    }
   ],
   "source": [
    "model$results "
   ]
  },
  {
   "cell_type": "code",
   "execution_count": 11,
   "id": "da85f23b",
   "metadata": {},
   "outputs": [],
   "source": [
    "pred  <-  predict(model, test)"
   ]
  },
  {
   "cell_type": "code",
   "execution_count": 12,
   "id": "908a28e7",
   "metadata": {},
   "outputs": [
    {
     "data": {
      "text/plain": [
       "         actual\n",
       "predicted    0    1\n",
       "        0 5083  436\n",
       "        1  275 5434"
      ]
     },
     "metadata": {},
     "output_type": "display_data"
    }
   ],
   "source": [
    "table(predicted=pred, actual=test$label)"
   ]
  },
  {
   "cell_type": "code",
   "execution_count": 13,
   "id": "bfd3a80e",
   "metadata": {},
   "outputs": [
    {
     "data": {
      "text/html": [
       "0.936676166726042"
      ],
      "text/latex": [
       "0.936676166726042"
      ],
      "text/markdown": [
       "0.936676166726042"
      ],
      "text/plain": [
       "[1] 0.9366762"
      ]
     },
     "metadata": {},
     "output_type": "display_data"
    }
   ],
   "source": [
    "# test accuracy\n",
    "mean(pred == test$label)"
   ]
  },
  {
   "cell_type": "code",
   "execution_count": 14,
   "id": "10271527",
   "metadata": {},
   "outputs": [
    {
     "data": {
      "text/html": [
       "0.948674878686077"
      ],
      "text/latex": [
       "0.948674878686077"
      ],
      "text/markdown": [
       "0.948674878686077"
      ],
      "text/plain": [
       "[1] 0.9486749"
      ]
     },
     "metadata": {},
     "output_type": "display_data"
    }
   ],
   "source": [
    "# test fake accuracy\n",
    "(5083)/(5083+275)"
   ]
  },
  {
   "cell_type": "code",
   "execution_count": 15,
   "id": "0b38489f",
   "metadata": {},
   "outputs": [
    {
     "data": {
      "text/html": [
       "0.92572402044293"
      ],
      "text/latex": [
       "0.92572402044293"
      ],
      "text/markdown": [
       "0.92572402044293"
      ],
      "text/plain": [
       "[1] 0.925724"
      ]
     },
     "metadata": {},
     "output_type": "display_data"
    }
   ],
   "source": [
    "# test true accuracy\n",
    "(5434)/(5434+436)"
   ]
  },
  {
   "cell_type": "code",
   "execution_count": 16,
   "id": "cb3ac58b",
   "metadata": {},
   "outputs": [],
   "source": [
    "pred_train  <-  predict(model, train)"
   ]
  },
  {
   "cell_type": "code",
   "execution_count": 17,
   "id": "1ebd350f",
   "metadata": {},
   "outputs": [
    {
     "data": {
      "text/html": [
       "0.943605117093586"
      ],
      "text/latex": [
       "0.943605117093586"
      ],
      "text/markdown": [
       "0.943605117093586"
      ],
      "text/plain": [
       "[1] 0.9436051"
      ]
     },
     "metadata": {},
     "output_type": "display_data"
    }
   ],
   "source": [
    "# train accuracy\n",
    "mean(pred_train == train$label)"
   ]
  }
 ],
 "metadata": {
  "kernelspec": {
   "display_name": "R",
   "language": "R",
   "name": "ir"
  },
  "language_info": {
   "codemirror_mode": "r",
   "file_extension": ".r",
   "mimetype": "text/x-r-source",
   "name": "R",
   "pygments_lexer": "r",
   "version": "4.1.3"
  }
 },
 "nbformat": 4,
 "nbformat_minor": 5
}
