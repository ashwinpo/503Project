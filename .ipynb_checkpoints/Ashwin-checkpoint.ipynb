{
 "cells": [
  {
   "cell_type": "code",
   "execution_count": 4,
   "id": "92bb749f",
   "metadata": {},
   "outputs": [],
   "source": [
    "library(tidyverse)\n",
    "library(dimRed)"
   ]
  },
  {
   "cell_type": "code",
   "execution_count": 5,
   "id": "bf5aa225",
   "metadata": {},
   "outputs": [],
   "source": [
    "train = read.csv(\"train.csv\")"
   ]
  },
  {
   "cell_type": "code",
   "execution_count": 27,
   "id": "5272fc02",
   "metadata": {},
   "outputs": [],
   "source": [
    "## set the seed to make your partition reproducible\n",
    "set.seed(503)\n",
    "\n",
    "sub_ind <- sample(seq_len(nrow(train)), size = floor(0.1 * nrow(train)))\n",
    "\n",
    "sub <- train[sub_ind, ]\n",
    "rest = train[-sub_ind,]"
   ]
  },
  {
   "cell_type": "code",
   "execution_count": 10,
   "id": "a78d95ae",
   "metadata": {},
   "outputs": [
    {
     "data": {
      "text/html": [
       "<table class=\"dataframe\">\n",
       "<caption>A data.frame: 6 × 604</caption>\n",
       "<thead>\n",
       "\t<tr><th></th><th scope=col>title</th><th scope=col>subject</th><th scope=col>date</th><th scope=col>label</th><th scope=col>s</th><th scope=col>trump</th><th scope=col>said</th><th scope=col>president</th><th scope=col>t</th><th scope=col>u</th><th scope=col>⋯</th><th scope=col>services</th><th scope=col>cut</th><th scope=col>latest</th><th scope=col>questions</th><th scope=col>received</th><th scope=col>rally</th><th scope=col>peace</th><th scope=col>oil</th><th scope=col>access</th><th scope=col>planned</th></tr>\n",
       "\t<tr><th></th><th scope=col>&lt;chr&gt;</th><th scope=col>&lt;chr&gt;</th><th scope=col>&lt;chr&gt;</th><th scope=col>&lt;chr&gt;</th><th scope=col>&lt;dbl&gt;</th><th scope=col>&lt;dbl&gt;</th><th scope=col>&lt;dbl&gt;</th><th scope=col>&lt;dbl&gt;</th><th scope=col>&lt;dbl&gt;</th><th scope=col>&lt;dbl&gt;</th><th scope=col>⋯</th><th scope=col>&lt;dbl&gt;</th><th scope=col>&lt;dbl&gt;</th><th scope=col>&lt;dbl&gt;</th><th scope=col>&lt;dbl&gt;</th><th scope=col>&lt;dbl&gt;</th><th scope=col>&lt;dbl&gt;</th><th scope=col>&lt;dbl&gt;</th><th scope=col>&lt;dbl&gt;</th><th scope=col>&lt;dbl&gt;</th><th scope=col>&lt;dbl&gt;</th></tr>\n",
       "</thead>\n",
       "<tbody>\n",
       "\t<tr><th scope=row>10731</th><td>GOP MAJORITY SENATE FINALLY GETS IT RIGHT: Votes To Gut Obamacare And Defund Planned Parenthood                                                                             </td><td>politics </td><td>4-Dec-15 </td><td>Fake</td><td>0.09832334</td><td>0.0000000</td><td>0.09186381</td><td>0.08384356</td><td>0.0000000</td><td>0</td><td>⋯</td><td>0</td><td>0</td><td>0.0000000</td><td>0</td><td>0</td><td>0</td><td>0</td><td>0</td><td>0</td><td>0</td></tr>\n",
       "\t<tr><th scope=row>17811</th><td><span style=white-space:pre-wrap> WATCH: Obama PERFECTLY Mocks Trump&lt;U+2019&gt;s Insane Followers That Think He&lt;U+2019&gt;s A Literal Demon                                                                        </span></td><td><span style=white-space:pre-wrap>News     </span></td><td>12-Oct-16</td><td>Fake</td><td>0.10403339</td><td>0.0000000</td><td>0.06074920</td><td>0.33267264</td><td>0.2492488</td><td>0</td><td>⋯</td><td>0</td><td>0</td><td>0.0000000</td><td>0</td><td>0</td><td>0</td><td>0</td><td>0</td><td>0</td><td>0</td></tr>\n",
       "\t<tr><th scope=row>20164</th><td>Saudi says Iranian talk of rapprochement is laughable                                                                                                                       </td><td>worldnews</td><td>5-Sep-17 </td><td>True</td><td>0.16958778</td><td>0.0000000</td><td>0.27728121</td><td>0.00000000</td><td>0.0000000</td><td>0</td><td>⋯</td><td>0</td><td>0</td><td>0.0000000</td><td>0</td><td>0</td><td>0</td><td>0</td><td>0</td><td>0</td><td>0</td></tr>\n",
       "\t<tr><th scope=row>13222</th><td>DEMOCRAT DERSHOWITZ Slaps Down Feinstein&lt;U+2019&gt;s Effort to Say Trump Guilty of Obstruction: &lt;U+2018&gt;She doesn&lt;U+2019&gt;t know what she&lt;U+2019&gt;s talking about&lt;U+2019&gt; [Video]</td><td>politics </td><td>4-Dec-17 </td><td>Fake</td><td>0.28167539</td><td>0.0000000</td><td>0.05482713</td><td>0.10008079</td><td>0.1499673</td><td>0</td><td>⋯</td><td>0</td><td>0</td><td>0.0000000</td><td>0</td><td>0</td><td>0</td><td>0</td><td>0</td><td>0</td><td>0</td></tr>\n",
       "\t<tr><th scope=row>18161</th><td> Al Gore Has The PERFECT Piece Of Advice For Donald Trump                                                                                                                   </td><td>News     </td><td>17-Aug-17</td><td>Fake</td><td>0.36404599</td><td>0.2023689</td><td>0.08503233</td><td>0.00000000</td><td>0.1162935</td><td>0</td><td>⋯</td><td>0</td><td>0</td><td>0.1207856</td><td>0</td><td>0</td><td>0</td><td>0</td><td>0</td><td>0</td><td>0</td></tr>\n",
       "\t<tr><th scope=row>752</th><td> Obama Just Threw MAJOR Shade At Trump During Last National Security Speech (VIDEO)                                                                                         </td><td>News     </td><td>6-Dec-16 </td><td>Fake</td><td>0.23460812</td><td>0.0000000</td><td>0.03914199</td><td>0.35724660</td><td>0.0000000</td><td>0</td><td>⋯</td><td>0</td><td>0</td><td>0.0000000</td><td>0</td><td>0</td><td>0</td><td>0</td><td>0</td><td>0</td><td>0</td></tr>\n",
       "</tbody>\n",
       "</table>\n"
      ],
      "text/latex": [
       "A data.frame: 6 × 604\n",
       "\\begin{tabular}{r|lllllllllllllllllllll}\n",
       "  & title & subject & date & label & s & trump & said & president & t & u & ⋯ & services & cut & latest & questions & received & rally & peace & oil & access & planned\\\\\n",
       "  & <chr> & <chr> & <chr> & <chr> & <dbl> & <dbl> & <dbl> & <dbl> & <dbl> & <dbl> & ⋯ & <dbl> & <dbl> & <dbl> & <dbl> & <dbl> & <dbl> & <dbl> & <dbl> & <dbl> & <dbl>\\\\\n",
       "\\hline\n",
       "\t10731 & GOP MAJORITY SENATE FINALLY GETS IT RIGHT: Votes To Gut Obamacare And Defund Planned Parenthood                                                                              & politics  & 4-Dec-15  & Fake & 0.09832334 & 0.0000000 & 0.09186381 & 0.08384356 & 0.0000000 & 0 & ⋯ & 0 & 0 & 0.0000000 & 0 & 0 & 0 & 0 & 0 & 0 & 0\\\\\n",
       "\t17811 &  WATCH: Obama PERFECTLY Mocks Trump<U+2019>s Insane Followers That Think He<U+2019>s A Literal Demon                                                                         & News      & 12-Oct-16 & Fake & 0.10403339 & 0.0000000 & 0.06074920 & 0.33267264 & 0.2492488 & 0 & ⋯ & 0 & 0 & 0.0000000 & 0 & 0 & 0 & 0 & 0 & 0 & 0\\\\\n",
       "\t20164 & Saudi says Iranian talk of rapprochement is laughable                                                                                                                        & worldnews & 5-Sep-17  & True & 0.16958778 & 0.0000000 & 0.27728121 & 0.00000000 & 0.0000000 & 0 & ⋯ & 0 & 0 & 0.0000000 & 0 & 0 & 0 & 0 & 0 & 0 & 0\\\\\n",
       "\t13222 & DEMOCRAT DERSHOWITZ Slaps Down Feinstein<U+2019>s Effort to Say Trump Guilty of Obstruction: <U+2018>She doesn<U+2019>t know what she<U+2019>s talking about<U+2019> {[}Video{]} & politics  & 4-Dec-17  & Fake & 0.28167539 & 0.0000000 & 0.05482713 & 0.10008079 & 0.1499673 & 0 & ⋯ & 0 & 0 & 0.0000000 & 0 & 0 & 0 & 0 & 0 & 0 & 0\\\\\n",
       "\t18161 &  Al Gore Has The PERFECT Piece Of Advice For Donald Trump                                                                                                                    & News      & 17-Aug-17 & Fake & 0.36404599 & 0.2023689 & 0.08503233 & 0.00000000 & 0.1162935 & 0 & ⋯ & 0 & 0 & 0.1207856 & 0 & 0 & 0 & 0 & 0 & 0 & 0\\\\\n",
       "\t752 &  Obama Just Threw MAJOR Shade At Trump During Last National Security Speech (VIDEO)                                                                                          & News      & 6-Dec-16  & Fake & 0.23460812 & 0.0000000 & 0.03914199 & 0.35724660 & 0.0000000 & 0 & ⋯ & 0 & 0 & 0.0000000 & 0 & 0 & 0 & 0 & 0 & 0 & 0\\\\\n",
       "\\end{tabular}\n"
      ],
      "text/markdown": [
       "\n",
       "A data.frame: 6 × 604\n",
       "\n",
       "| <!--/--> | title &lt;chr&gt; | subject &lt;chr&gt; | date &lt;chr&gt; | label &lt;chr&gt; | s &lt;dbl&gt; | trump &lt;dbl&gt; | said &lt;dbl&gt; | president &lt;dbl&gt; | t &lt;dbl&gt; | u &lt;dbl&gt; | ⋯ ⋯ | services &lt;dbl&gt; | cut &lt;dbl&gt; | latest &lt;dbl&gt; | questions &lt;dbl&gt; | received &lt;dbl&gt; | rally &lt;dbl&gt; | peace &lt;dbl&gt; | oil &lt;dbl&gt; | access &lt;dbl&gt; | planned &lt;dbl&gt; |\n",
       "|---|---|---|---|---|---|---|---|---|---|---|---|---|---|---|---|---|---|---|---|---|---|\n",
       "| 10731 | GOP MAJORITY SENATE FINALLY GETS IT RIGHT: Votes To Gut Obamacare And Defund Planned Parenthood                                                                              | politics  | 4-Dec-15  | Fake | 0.09832334 | 0.0000000 | 0.09186381 | 0.08384356 | 0.0000000 | 0 | ⋯ | 0 | 0 | 0.0000000 | 0 | 0 | 0 | 0 | 0 | 0 | 0 |\n",
       "| 17811 |  WATCH: Obama PERFECTLY Mocks Trump&lt;U+2019&gt;s Insane Followers That Think He&lt;U+2019&gt;s A Literal Demon                                                                         | News      | 12-Oct-16 | Fake | 0.10403339 | 0.0000000 | 0.06074920 | 0.33267264 | 0.2492488 | 0 | ⋯ | 0 | 0 | 0.0000000 | 0 | 0 | 0 | 0 | 0 | 0 | 0 |\n",
       "| 20164 | Saudi says Iranian talk of rapprochement is laughable                                                                                                                        | worldnews | 5-Sep-17  | True | 0.16958778 | 0.0000000 | 0.27728121 | 0.00000000 | 0.0000000 | 0 | ⋯ | 0 | 0 | 0.0000000 | 0 | 0 | 0 | 0 | 0 | 0 | 0 |\n",
       "| 13222 | DEMOCRAT DERSHOWITZ Slaps Down Feinstein&lt;U+2019&gt;s Effort to Say Trump Guilty of Obstruction: &lt;U+2018&gt;She doesn&lt;U+2019&gt;t know what she&lt;U+2019&gt;s talking about&lt;U+2019&gt; [Video] | politics  | 4-Dec-17  | Fake | 0.28167539 | 0.0000000 | 0.05482713 | 0.10008079 | 0.1499673 | 0 | ⋯ | 0 | 0 | 0.0000000 | 0 | 0 | 0 | 0 | 0 | 0 | 0 |\n",
       "| 18161 |  Al Gore Has The PERFECT Piece Of Advice For Donald Trump                                                                                                                    | News      | 17-Aug-17 | Fake | 0.36404599 | 0.2023689 | 0.08503233 | 0.00000000 | 0.1162935 | 0 | ⋯ | 0 | 0 | 0.1207856 | 0 | 0 | 0 | 0 | 0 | 0 | 0 |\n",
       "| 752 |  Obama Just Threw MAJOR Shade At Trump During Last National Security Speech (VIDEO)                                                                                          | News      | 6-Dec-16  | Fake | 0.23460812 | 0.0000000 | 0.03914199 | 0.35724660 | 0.0000000 | 0 | ⋯ | 0 | 0 | 0.0000000 | 0 | 0 | 0 | 0 | 0 | 0 | 0 |\n",
       "\n"
      ],
      "text/plain": [
       "      title                                                                                                                                                                       \n",
       "10731 GOP MAJORITY SENATE FINALLY GETS IT RIGHT: Votes To Gut Obamacare And Defund Planned Parenthood                                                                             \n",
       "17811  WATCH: Obama PERFECTLY Mocks Trump<U+2019>s Insane Followers That Think He<U+2019>s A Literal Demon                                                                        \n",
       "20164 Saudi says Iranian talk of rapprochement is laughable                                                                                                                       \n",
       "13222 DEMOCRAT DERSHOWITZ Slaps Down Feinstein<U+2019>s Effort to Say Trump Guilty of Obstruction: <U+2018>She doesn<U+2019>t know what she<U+2019>s talking about<U+2019> [Video]\n",
       "18161  Al Gore Has The PERFECT Piece Of Advice For Donald Trump                                                                                                                   \n",
       "752    Obama Just Threw MAJOR Shade At Trump During Last National Security Speech (VIDEO)                                                                                         \n",
       "      subject   date      label s          trump     said       president \n",
       "10731 politics  4-Dec-15  Fake  0.09832334 0.0000000 0.09186381 0.08384356\n",
       "17811 News      12-Oct-16 Fake  0.10403339 0.0000000 0.06074920 0.33267264\n",
       "20164 worldnews 5-Sep-17  True  0.16958778 0.0000000 0.27728121 0.00000000\n",
       "13222 politics  4-Dec-17  Fake  0.28167539 0.0000000 0.05482713 0.10008079\n",
       "18161 News      17-Aug-17 Fake  0.36404599 0.2023689 0.08503233 0.00000000\n",
       "752   News      6-Dec-16  Fake  0.23460812 0.0000000 0.03914199 0.35724660\n",
       "      t         u <U+22EF>        services cut latest    questions received rally\n",
       "10731 0.0000000 0 <U+22EF> 0        0   0.0000000 0         0        0    \n",
       "17811 0.2492488 0 <U+22EF> 0        0   0.0000000 0         0        0    \n",
       "20164 0.0000000 0 <U+22EF> 0        0   0.0000000 0         0        0    \n",
       "13222 0.1499673 0 <U+22EF> 0        0   0.0000000 0         0        0    \n",
       "18161 0.1162935 0 <U+22EF> 0        0   0.1207856 0         0        0    \n",
       "752   0.0000000 0 <U+22EF> 0        0   0.0000000 0         0        0    \n",
       "      peace oil access planned\n",
       "10731 0     0   0      0      \n",
       "17811 0     0   0      0      \n",
       "20164 0     0   0      0      \n",
       "13222 0     0   0      0      \n",
       "18161 0     0   0      0      \n",
       "752   0     0   0      0      "
      ]
     },
     "metadata": {},
     "output_type": "display_data"
    },
    {
     "data": {
      "text/html": [
       "<style>\n",
       ".list-inline {list-style: none; margin:0; padding: 0}\n",
       ".list-inline>li {display: inline-block}\n",
       ".list-inline>li:not(:last-child)::after {content: \"\\00b7\"; padding: 0 .5ex}\n",
       "</style>\n",
       "<ol class=list-inline><li>3370</li><li>604</li></ol>\n"
      ],
      "text/latex": [
       "\\begin{enumerate*}\n",
       "\\item 3370\n",
       "\\item 604\n",
       "\\end{enumerate*}\n"
      ],
      "text/markdown": [
       "1. 3370\n",
       "2. 604\n",
       "\n",
       "\n"
      ],
      "text/plain": [
       "[1] 3370  604"
      ]
     },
     "metadata": {},
     "output_type": "display_data"
    }
   ],
   "source": [
    "sub %>% head\n",
    "sub %>% dim"
   ]
  },
  {
   "cell_type": "code",
   "execution_count": 29,
   "id": "dd0ecf32",
   "metadata": {},
   "outputs": [],
   "source": [
    "sub = sub %>% select(-title, - date, -subject)\n",
    "rest = rest %>% select(-title, - date, -subject)"
   ]
  },
  {
   "cell_type": "code",
   "execution_count": 33,
   "id": "c6595fe3",
   "metadata": {},
   "outputs": [],
   "source": [
    "tune.out <- tune(svm, as.factor(label) ~., data = sub, \n",
    "              ranges = list(gamma = 2^(-1:1), cost = 10^(-2:2)),\n",
    "              tunecontrol = tune.control(sampling = \"cross\", cross = 5), \n",
    "              scale = F\n",
    "             )"
   ]
  },
  {
   "cell_type": "code",
   "execution_count": 34,
   "id": "e9240cd9",
   "metadata": {},
   "outputs": [
    {
     "data": {
      "text/plain": [
       "\n",
       "Call:\n",
       "best.tune(method = svm, train.x = as.factor(label) ~ ., data = sub, \n",
       "    ranges = list(gamma = 2^(-1:1), cost = 10^(-2:2)), tunecontrol = tune.control(sampling = \"cross\", \n",
       "        cross = 5), scale = F)\n",
       "\n",
       "\n",
       "Parameters:\n",
       "   SVM-Type:  C-classification \n",
       " SVM-Kernel:  radial \n",
       "       cost:  10 \n",
       "\n",
       "Number of Support Vectors:  1490\n",
       "\n",
       " ( 666 824 )\n",
       "\n",
       "\n",
       "Number of Classes:  2 \n",
       "\n",
       "Levels: \n",
       " Fake True\n",
       "\n",
       "\n"
      ]
     },
     "metadata": {},
     "output_type": "display_data"
    }
   ],
   "source": [
    "bestmod=tune.out$best.model\n",
    "summary(bestmod)"
   ]
  },
  {
   "cell_type": "code",
   "execution_count": 73,
   "id": "c4fae46f",
   "metadata": {},
   "outputs": [],
   "source": [
    "errors = function(cm){\n",
    "    print(paste(\"Fake Accuracy: \", round(cm[1,1] / (cm[1,1] + cm[2,1]), 4)))\n",
    "    print(paste(\"True Accuracy: \", round(cm[2,2] / (cm[1,2] + cm[2,2]),4)))\n",
    "    print(paste(\"Overall Accuracy: \", round((sum(diag(cm)) / sum(cm)), 4)))\n",
    "}"
   ]
  },
  {
   "cell_type": "code",
   "execution_count": 35,
   "id": "891f1196",
   "metadata": {},
   "outputs": [
    {
     "data": {
      "text/plain": [
       "       truth\n",
       "predict Fake True\n",
       "   Fake 1733    1\n",
       "   True    0 1636"
      ]
     },
     "metadata": {},
     "output_type": "display_data"
    }
   ],
   "source": [
    "sub_pred= predict(bestmod , sub)"
   ]
  },
  {
   "cell_type": "code",
   "execution_count": 74,
   "id": "83531f37",
   "metadata": {},
   "outputs": [
    {
     "data": {
      "text/plain": [
       "       truth\n",
       "predict Fake True\n",
       "   Fake 1733    1\n",
       "   True    0 1636"
      ]
     },
     "metadata": {},
     "output_type": "display_data"
    },
    {
     "name": "stdout",
     "output_type": "stream",
     "text": [
      "[1] \"Fake Accuracy:  1\"\n",
      "[1] \"True Accuracy:  0.9994\"\n",
      "[1] \"Overall Accuracy:  0.9997\"\n"
     ]
    }
   ],
   "source": [
    "cm1 = table(predict=sub_pred, truth=sub$label)\n",
    "cm1\n",
    "errors(cm1)"
   ]
  },
  {
   "cell_type": "code",
   "execution_count": 36,
   "id": "15cdbccc",
   "metadata": {},
   "outputs": [
    {
     "data": {
      "text/plain": [
       "       truth\n",
       "predict  Fake  True\n",
       "   Fake 14791   750\n",
       "   True  1086 13708"
      ]
     },
     "metadata": {},
     "output_type": "display_data"
    }
   ],
   "source": [
    "rest_pred = predict(bestmod, newdata = rest)"
   ]
  },
  {
   "cell_type": "code",
   "execution_count": 75,
   "id": "ad1af619",
   "metadata": {},
   "outputs": [
    {
     "data": {
      "text/plain": [
       "       truth\n",
       "predict  Fake  True\n",
       "   Fake 14791   750\n",
       "   True  1086 13708"
      ]
     },
     "metadata": {},
     "output_type": "display_data"
    },
    {
     "name": "stdout",
     "output_type": "stream",
     "text": [
      "[1] \"Fake Accuracy:  0.9316\"\n",
      "[1] \"True Accuracy:  0.9481\"\n",
      "[1] \"Overall Accuracy:  0.9395\"\n"
     ]
    }
   ],
   "source": [
    "cm2 = table(predict=rest_pred, truth=rest$label)\n",
    "cm2\n",
    "errors(cm2)"
   ]
  }
 ],
 "metadata": {
  "kernelspec": {
   "display_name": "R",
   "language": "R",
   "name": "ir"
  },
  "language_info": {
   "codemirror_mode": "r",
   "file_extension": ".r",
   "mimetype": "text/x-r-source",
   "name": "R",
   "pygments_lexer": "r",
   "version": "4.0.5"
  }
 },
 "nbformat": 4,
 "nbformat_minor": 5
}
