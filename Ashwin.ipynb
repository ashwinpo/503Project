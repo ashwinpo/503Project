{
 "cells": [
  {
   "cell_type": "code",
   "execution_count": 2,
   "id": "92bb749f",
   "metadata": {},
   "outputs": [],
   "source": [
    "library(tidyverse)\n",
    "library(dimRed)"
   ]
  },
  {
   "cell_type": "code",
   "execution_count": 6,
   "id": "bf5aa225",
   "metadata": {},
   "outputs": [],
   "source": [
    "train = read.csv(\"tf-train.csv\")"
   ]
  },
  {
   "cell_type": "code",
   "execution_count": 4,
   "id": "5272fc02",
   "metadata": {},
   "outputs": [],
   "source": [
    "## set the seed to make your partition reproducible\n",
    "set.seed(503)\n",
    "\n",
    "sub_ind <- sample(seq_len(nrow(train)), size = floor(0.1 * nrow(train)))\n",
    "\n",
    "sub <- train[sub_ind, ]\n",
    "rest = train[-sub_ind,]"
   ]
  },
  {
   "cell_type": "code",
   "execution_count": 10,
   "id": "a78d95ae",
   "metadata": {},
   "outputs": [
    {
     "data": {
      "text/html": [
       "<table class=\"dataframe\">\n",
       "<caption>A data.frame: 6 × 604</caption>\n",
       "<thead>\n",
       "\t<tr><th></th><th scope=col>title</th><th scope=col>subject</th><th scope=col>date</th><th scope=col>label</th><th scope=col>s</th><th scope=col>trump</th><th scope=col>said</th><th scope=col>president</th><th scope=col>t</th><th scope=col>u</th><th scope=col>⋯</th><th scope=col>services</th><th scope=col>cut</th><th scope=col>latest</th><th scope=col>questions</th><th scope=col>received</th><th scope=col>rally</th><th scope=col>peace</th><th scope=col>oil</th><th scope=col>access</th><th scope=col>planned</th></tr>\n",
       "\t<tr><th></th><th scope=col>&lt;chr&gt;</th><th scope=col>&lt;chr&gt;</th><th scope=col>&lt;chr&gt;</th><th scope=col>&lt;chr&gt;</th><th scope=col>&lt;dbl&gt;</th><th scope=col>&lt;dbl&gt;</th><th scope=col>&lt;dbl&gt;</th><th scope=col>&lt;dbl&gt;</th><th scope=col>&lt;dbl&gt;</th><th scope=col>&lt;dbl&gt;</th><th scope=col>⋯</th><th scope=col>&lt;dbl&gt;</th><th scope=col>&lt;dbl&gt;</th><th scope=col>&lt;dbl&gt;</th><th scope=col>&lt;dbl&gt;</th><th scope=col>&lt;dbl&gt;</th><th scope=col>&lt;dbl&gt;</th><th scope=col>&lt;dbl&gt;</th><th scope=col>&lt;dbl&gt;</th><th scope=col>&lt;dbl&gt;</th><th scope=col>&lt;dbl&gt;</th></tr>\n",
       "</thead>\n",
       "<tbody>\n",
       "\t<tr><th scope=row>10731</th><td>GOP MAJORITY SENATE FINALLY GETS IT RIGHT: Votes To Gut Obamacare And Defund Planned Parenthood                                                                             </td><td>politics </td><td>4-Dec-15 </td><td>Fake</td><td>0.09832334</td><td>0.0000000</td><td>0.09186381</td><td>0.08384356</td><td>0.0000000</td><td>0</td><td>⋯</td><td>0</td><td>0</td><td>0.0000000</td><td>0</td><td>0</td><td>0</td><td>0</td><td>0</td><td>0</td><td>0</td></tr>\n",
       "\t<tr><th scope=row>17811</th><td><span style=white-space:pre-wrap> WATCH: Obama PERFECTLY Mocks Trump&lt;U+2019&gt;s Insane Followers That Think He&lt;U+2019&gt;s A Literal Demon                                                                        </span></td><td><span style=white-space:pre-wrap>News     </span></td><td>12-Oct-16</td><td>Fake</td><td>0.10403339</td><td>0.0000000</td><td>0.06074920</td><td>0.33267264</td><td>0.2492488</td><td>0</td><td>⋯</td><td>0</td><td>0</td><td>0.0000000</td><td>0</td><td>0</td><td>0</td><td>0</td><td>0</td><td>0</td><td>0</td></tr>\n",
       "\t<tr><th scope=row>20164</th><td>Saudi says Iranian talk of rapprochement is laughable                                                                                                                       </td><td>worldnews</td><td>5-Sep-17 </td><td>True</td><td>0.16958778</td><td>0.0000000</td><td>0.27728121</td><td>0.00000000</td><td>0.0000000</td><td>0</td><td>⋯</td><td>0</td><td>0</td><td>0.0000000</td><td>0</td><td>0</td><td>0</td><td>0</td><td>0</td><td>0</td><td>0</td></tr>\n",
       "\t<tr><th scope=row>13222</th><td>DEMOCRAT DERSHOWITZ Slaps Down Feinstein&lt;U+2019&gt;s Effort to Say Trump Guilty of Obstruction: &lt;U+2018&gt;She doesn&lt;U+2019&gt;t know what she&lt;U+2019&gt;s talking about&lt;U+2019&gt; [Video]</td><td>politics </td><td>4-Dec-17 </td><td>Fake</td><td>0.28167539</td><td>0.0000000</td><td>0.05482713</td><td>0.10008079</td><td>0.1499673</td><td>0</td><td>⋯</td><td>0</td><td>0</td><td>0.0000000</td><td>0</td><td>0</td><td>0</td><td>0</td><td>0</td><td>0</td><td>0</td></tr>\n",
       "\t<tr><th scope=row>18161</th><td> Al Gore Has The PERFECT Piece Of Advice For Donald Trump                                                                                                                   </td><td>News     </td><td>17-Aug-17</td><td>Fake</td><td>0.36404599</td><td>0.2023689</td><td>0.08503233</td><td>0.00000000</td><td>0.1162935</td><td>0</td><td>⋯</td><td>0</td><td>0</td><td>0.1207856</td><td>0</td><td>0</td><td>0</td><td>0</td><td>0</td><td>0</td><td>0</td></tr>\n",
       "\t<tr><th scope=row>752</th><td> Obama Just Threw MAJOR Shade At Trump During Last National Security Speech (VIDEO)                                                                                         </td><td>News     </td><td>6-Dec-16 </td><td>Fake</td><td>0.23460812</td><td>0.0000000</td><td>0.03914199</td><td>0.35724660</td><td>0.0000000</td><td>0</td><td>⋯</td><td>0</td><td>0</td><td>0.0000000</td><td>0</td><td>0</td><td>0</td><td>0</td><td>0</td><td>0</td><td>0</td></tr>\n",
       "</tbody>\n",
       "</table>\n"
      ],
      "text/latex": [
       "A data.frame: 6 × 604\n",
       "\\begin{tabular}{r|lllllllllllllllllllll}\n",
       "  & title & subject & date & label & s & trump & said & president & t & u & ⋯ & services & cut & latest & questions & received & rally & peace & oil & access & planned\\\\\n",
       "  & <chr> & <chr> & <chr> & <chr> & <dbl> & <dbl> & <dbl> & <dbl> & <dbl> & <dbl> & ⋯ & <dbl> & <dbl> & <dbl> & <dbl> & <dbl> & <dbl> & <dbl> & <dbl> & <dbl> & <dbl>\\\\\n",
       "\\hline\n",
       "\t10731 & GOP MAJORITY SENATE FINALLY GETS IT RIGHT: Votes To Gut Obamacare And Defund Planned Parenthood                                                                              & politics  & 4-Dec-15  & Fake & 0.09832334 & 0.0000000 & 0.09186381 & 0.08384356 & 0.0000000 & 0 & ⋯ & 0 & 0 & 0.0000000 & 0 & 0 & 0 & 0 & 0 & 0 & 0\\\\\n",
       "\t17811 &  WATCH: Obama PERFECTLY Mocks Trump<U+2019>s Insane Followers That Think He<U+2019>s A Literal Demon                                                                         & News      & 12-Oct-16 & Fake & 0.10403339 & 0.0000000 & 0.06074920 & 0.33267264 & 0.2492488 & 0 & ⋯ & 0 & 0 & 0.0000000 & 0 & 0 & 0 & 0 & 0 & 0 & 0\\\\\n",
       "\t20164 & Saudi says Iranian talk of rapprochement is laughable                                                                                                                        & worldnews & 5-Sep-17  & True & 0.16958778 & 0.0000000 & 0.27728121 & 0.00000000 & 0.0000000 & 0 & ⋯ & 0 & 0 & 0.0000000 & 0 & 0 & 0 & 0 & 0 & 0 & 0\\\\\n",
       "\t13222 & DEMOCRAT DERSHOWITZ Slaps Down Feinstein<U+2019>s Effort to Say Trump Guilty of Obstruction: <U+2018>She doesn<U+2019>t know what she<U+2019>s talking about<U+2019> {[}Video{]} & politics  & 4-Dec-17  & Fake & 0.28167539 & 0.0000000 & 0.05482713 & 0.10008079 & 0.1499673 & 0 & ⋯ & 0 & 0 & 0.0000000 & 0 & 0 & 0 & 0 & 0 & 0 & 0\\\\\n",
       "\t18161 &  Al Gore Has The PERFECT Piece Of Advice For Donald Trump                                                                                                                    & News      & 17-Aug-17 & Fake & 0.36404599 & 0.2023689 & 0.08503233 & 0.00000000 & 0.1162935 & 0 & ⋯ & 0 & 0 & 0.1207856 & 0 & 0 & 0 & 0 & 0 & 0 & 0\\\\\n",
       "\t752 &  Obama Just Threw MAJOR Shade At Trump During Last National Security Speech (VIDEO)                                                                                          & News      & 6-Dec-16  & Fake & 0.23460812 & 0.0000000 & 0.03914199 & 0.35724660 & 0.0000000 & 0 & ⋯ & 0 & 0 & 0.0000000 & 0 & 0 & 0 & 0 & 0 & 0 & 0\\\\\n",
       "\\end{tabular}\n"
      ],
      "text/markdown": [
       "\n",
       "A data.frame: 6 × 604\n",
       "\n",
       "| <!--/--> | title &lt;chr&gt; | subject &lt;chr&gt; | date &lt;chr&gt; | label &lt;chr&gt; | s &lt;dbl&gt; | trump &lt;dbl&gt; | said &lt;dbl&gt; | president &lt;dbl&gt; | t &lt;dbl&gt; | u &lt;dbl&gt; | ⋯ ⋯ | services &lt;dbl&gt; | cut &lt;dbl&gt; | latest &lt;dbl&gt; | questions &lt;dbl&gt; | received &lt;dbl&gt; | rally &lt;dbl&gt; | peace &lt;dbl&gt; | oil &lt;dbl&gt; | access &lt;dbl&gt; | planned &lt;dbl&gt; |\n",
       "|---|---|---|---|---|---|---|---|---|---|---|---|---|---|---|---|---|---|---|---|---|---|\n",
       "| 10731 | GOP MAJORITY SENATE FINALLY GETS IT RIGHT: Votes To Gut Obamacare And Defund Planned Parenthood                                                                              | politics  | 4-Dec-15  | Fake | 0.09832334 | 0.0000000 | 0.09186381 | 0.08384356 | 0.0000000 | 0 | ⋯ | 0 | 0 | 0.0000000 | 0 | 0 | 0 | 0 | 0 | 0 | 0 |\n",
       "| 17811 |  WATCH: Obama PERFECTLY Mocks Trump&lt;U+2019&gt;s Insane Followers That Think He&lt;U+2019&gt;s A Literal Demon                                                                         | News      | 12-Oct-16 | Fake | 0.10403339 | 0.0000000 | 0.06074920 | 0.33267264 | 0.2492488 | 0 | ⋯ | 0 | 0 | 0.0000000 | 0 | 0 | 0 | 0 | 0 | 0 | 0 |\n",
       "| 20164 | Saudi says Iranian talk of rapprochement is laughable                                                                                                                        | worldnews | 5-Sep-17  | True | 0.16958778 | 0.0000000 | 0.27728121 | 0.00000000 | 0.0000000 | 0 | ⋯ | 0 | 0 | 0.0000000 | 0 | 0 | 0 | 0 | 0 | 0 | 0 |\n",
       "| 13222 | DEMOCRAT DERSHOWITZ Slaps Down Feinstein&lt;U+2019&gt;s Effort to Say Trump Guilty of Obstruction: &lt;U+2018&gt;She doesn&lt;U+2019&gt;t know what she&lt;U+2019&gt;s talking about&lt;U+2019&gt; [Video] | politics  | 4-Dec-17  | Fake | 0.28167539 | 0.0000000 | 0.05482713 | 0.10008079 | 0.1499673 | 0 | ⋯ | 0 | 0 | 0.0000000 | 0 | 0 | 0 | 0 | 0 | 0 | 0 |\n",
       "| 18161 |  Al Gore Has The PERFECT Piece Of Advice For Donald Trump                                                                                                                    | News      | 17-Aug-17 | Fake | 0.36404599 | 0.2023689 | 0.08503233 | 0.00000000 | 0.1162935 | 0 | ⋯ | 0 | 0 | 0.1207856 | 0 | 0 | 0 | 0 | 0 | 0 | 0 |\n",
       "| 752 |  Obama Just Threw MAJOR Shade At Trump During Last National Security Speech (VIDEO)                                                                                          | News      | 6-Dec-16  | Fake | 0.23460812 | 0.0000000 | 0.03914199 | 0.35724660 | 0.0000000 | 0 | ⋯ | 0 | 0 | 0.0000000 | 0 | 0 | 0 | 0 | 0 | 0 | 0 |\n",
       "\n"
      ],
      "text/plain": [
       "      title                                                                                                                                                                       \n",
       "10731 GOP MAJORITY SENATE FINALLY GETS IT RIGHT: Votes To Gut Obamacare And Defund Planned Parenthood                                                                             \n",
       "17811  WATCH: Obama PERFECTLY Mocks Trump<U+2019>s Insane Followers That Think He<U+2019>s A Literal Demon                                                                        \n",
       "20164 Saudi says Iranian talk of rapprochement is laughable                                                                                                                       \n",
       "13222 DEMOCRAT DERSHOWITZ Slaps Down Feinstein<U+2019>s Effort to Say Trump Guilty of Obstruction: <U+2018>She doesn<U+2019>t know what she<U+2019>s talking about<U+2019> [Video]\n",
       "18161  Al Gore Has The PERFECT Piece Of Advice For Donald Trump                                                                                                                   \n",
       "752    Obama Just Threw MAJOR Shade At Trump During Last National Security Speech (VIDEO)                                                                                         \n",
       "      subject   date      label s          trump     said       president \n",
       "10731 politics  4-Dec-15  Fake  0.09832334 0.0000000 0.09186381 0.08384356\n",
       "17811 News      12-Oct-16 Fake  0.10403339 0.0000000 0.06074920 0.33267264\n",
       "20164 worldnews 5-Sep-17  True  0.16958778 0.0000000 0.27728121 0.00000000\n",
       "13222 politics  4-Dec-17  Fake  0.28167539 0.0000000 0.05482713 0.10008079\n",
       "18161 News      17-Aug-17 Fake  0.36404599 0.2023689 0.08503233 0.00000000\n",
       "752   News      6-Dec-16  Fake  0.23460812 0.0000000 0.03914199 0.35724660\n",
       "      t         u <U+22EF>        services cut latest    questions received rally\n",
       "10731 0.0000000 0 <U+22EF> 0        0   0.0000000 0         0        0    \n",
       "17811 0.2492488 0 <U+22EF> 0        0   0.0000000 0         0        0    \n",
       "20164 0.0000000 0 <U+22EF> 0        0   0.0000000 0         0        0    \n",
       "13222 0.1499673 0 <U+22EF> 0        0   0.0000000 0         0        0    \n",
       "18161 0.1162935 0 <U+22EF> 0        0   0.1207856 0         0        0    \n",
       "752   0.0000000 0 <U+22EF> 0        0   0.0000000 0         0        0    \n",
       "      peace oil access planned\n",
       "10731 0     0   0      0      \n",
       "17811 0     0   0      0      \n",
       "20164 0     0   0      0      \n",
       "13222 0     0   0      0      \n",
       "18161 0     0   0      0      \n",
       "752   0     0   0      0      "
      ]
     },
     "metadata": {},
     "output_type": "display_data"
    },
    {
     "data": {
      "text/html": [
       "<style>\n",
       ".list-inline {list-style: none; margin:0; padding: 0}\n",
       ".list-inline>li {display: inline-block}\n",
       ".list-inline>li:not(:last-child)::after {content: \"\\00b7\"; padding: 0 .5ex}\n",
       "</style>\n",
       "<ol class=list-inline><li>3370</li><li>604</li></ol>\n"
      ],
      "text/latex": [
       "\\begin{enumerate*}\n",
       "\\item 3370\n",
       "\\item 604\n",
       "\\end{enumerate*}\n"
      ],
      "text/markdown": [
       "1. 3370\n",
       "2. 604\n",
       "\n",
       "\n"
      ],
      "text/plain": [
       "[1] 3370  604"
      ]
     },
     "metadata": {},
     "output_type": "display_data"
    }
   ],
   "source": [
    "sub %>% head\n",
    "sub %>% dim"
   ]
  },
  {
   "cell_type": "code",
   "execution_count": 29,
   "id": "dd0ecf32",
   "metadata": {},
   "outputs": [],
   "source": [
    "sub = sub %>% select(-title, - date, -subject)\n",
    "rest = rest %>% select(-title, - date, -subject)"
   ]
  },
  {
   "cell_type": "code",
   "execution_count": 33,
   "id": "c6595fe3",
   "metadata": {},
   "outputs": [],
   "source": [
    "tune.out <- tune(svm, as.factor(label) ~., data = sub, \n",
    "              ranges = list(gamma = 2^(-1:1), cost = 10^(-2:2)),\n",
    "              tunecontrol = tune.control(sampling = \"cross\", cross = 5), \n",
    "              scale = F\n",
    "             )"
   ]
  },
  {
   "cell_type": "code",
   "execution_count": 34,
   "id": "e9240cd9",
   "metadata": {},
   "outputs": [
    {
     "data": {
      "text/plain": [
       "\n",
       "Call:\n",
       "best.tune(method = svm, train.x = as.factor(label) ~ ., data = sub, \n",
       "    ranges = list(gamma = 2^(-1:1), cost = 10^(-2:2)), tunecontrol = tune.control(sampling = \"cross\", \n",
       "        cross = 5), scale = F)\n",
       "\n",
       "\n",
       "Parameters:\n",
       "   SVM-Type:  C-classification \n",
       " SVM-Kernel:  radial \n",
       "       cost:  10 \n",
       "\n",
       "Number of Support Vectors:  1490\n",
       "\n",
       " ( 666 824 )\n",
       "\n",
       "\n",
       "Number of Classes:  2 \n",
       "\n",
       "Levels: \n",
       " Fake True\n",
       "\n",
       "\n"
      ]
     },
     "metadata": {},
     "output_type": "display_data"
    }
   ],
   "source": [
    "bestmod=tune.out$best.model\n",
    "summary(bestmod)"
   ]
  },
  {
   "cell_type": "code",
   "execution_count": 73,
   "id": "c4fae46f",
   "metadata": {},
   "outputs": [],
   "source": [
    "errors = function(cm){\n",
    "    print(paste(\"Fake Accuracy: \", round(cm[1,1] / (cm[1,1] + cm[2,1]), 4)))\n",
    "    print(paste(\"True Accuracy: \", round(cm[2,2] / (cm[1,2] + cm[2,2]),4)))\n",
    "    print(paste(\"Overall Accuracy: \", round((sum(diag(cm)) / sum(cm)), 4)))\n",
    "}"
   ]
  },
  {
   "cell_type": "code",
   "execution_count": 35,
   "id": "891f1196",
   "metadata": {},
   "outputs": [
    {
     "data": {
      "text/plain": [
       "       truth\n",
       "predict Fake True\n",
       "   Fake 1733    1\n",
       "   True    0 1636"
      ]
     },
     "metadata": {},
     "output_type": "display_data"
    }
   ],
   "source": [
    "sub_pred= predict(bestmod , sub)"
   ]
  },
  {
   "cell_type": "code",
   "execution_count": 74,
   "id": "83531f37",
   "metadata": {},
   "outputs": [
    {
     "data": {
      "text/plain": [
       "       truth\n",
       "predict Fake True\n",
       "   Fake 1733    1\n",
       "   True    0 1636"
      ]
     },
     "metadata": {},
     "output_type": "display_data"
    },
    {
     "name": "stdout",
     "output_type": "stream",
     "text": [
      "[1] \"Fake Accuracy:  1\"\n",
      "[1] \"True Accuracy:  0.9994\"\n",
      "[1] \"Overall Accuracy:  0.9997\"\n"
     ]
    }
   ],
   "source": [
    "cm1 = table(predict=sub_pred, truth=sub$label)\n",
    "cm1\n",
    "errors(cm1)"
   ]
  },
  {
   "cell_type": "code",
   "execution_count": 36,
   "id": "15cdbccc",
   "metadata": {},
   "outputs": [
    {
     "data": {
      "text/plain": [
       "       truth\n",
       "predict  Fake  True\n",
       "   Fake 14791   750\n",
       "   True  1086 13708"
      ]
     },
     "metadata": {},
     "output_type": "display_data"
    }
   ],
   "source": [
    "rest_pred = predict(bestmod, newdata = rest)"
   ]
  },
  {
   "cell_type": "code",
   "execution_count": 75,
   "id": "ad1af619",
   "metadata": {},
   "outputs": [
    {
     "data": {
      "text/plain": [
       "       truth\n",
       "predict  Fake  True\n",
       "   Fake 14791   750\n",
       "   True  1086 13708"
      ]
     },
     "metadata": {},
     "output_type": "display_data"
    },
    {
     "name": "stdout",
     "output_type": "stream",
     "text": [
      "[1] \"Fake Accuracy:  0.9316\"\n",
      "[1] \"True Accuracy:  0.9481\"\n",
      "[1] \"Overall Accuracy:  0.9395\"\n"
     ]
    }
   ],
   "source": [
    "cm2 = table(predict=rest_pred, truth=rest$label)\n",
    "cm2\n",
    "errors(cm2)"
   ]
  },
  {
   "cell_type": "code",
   "execution_count": 5,
   "id": "755a211a",
   "metadata": {},
   "outputs": [
    {
     "name": "stderr",
     "output_type": "stream",
     "text": [
      "Selecting by planned\n"
     ]
    },
    {
     "data": {
      "text/html": [
       "<table class=\"dataframe\">\n",
       "<caption>A grouped_df: 40 × 604</caption>\n",
       "<thead>\n",
       "\t<tr><th scope=col>title</th><th scope=col>subject</th><th scope=col>date</th><th scope=col>label</th><th scope=col>s</th><th scope=col>trump</th><th scope=col>said</th><th scope=col>president</th><th scope=col>t</th><th scope=col>u</th><th scope=col>⋯</th><th scope=col>services</th><th scope=col>cut</th><th scope=col>latest</th><th scope=col>questions</th><th scope=col>received</th><th scope=col>rally</th><th scope=col>peace</th><th scope=col>oil</th><th scope=col>access</th><th scope=col>planned</th></tr>\n",
       "\t<tr><th scope=col>&lt;chr&gt;</th><th scope=col>&lt;chr&gt;</th><th scope=col>&lt;chr&gt;</th><th scope=col>&lt;chr&gt;</th><th scope=col>&lt;dbl&gt;</th><th scope=col>&lt;dbl&gt;</th><th scope=col>&lt;dbl&gt;</th><th scope=col>&lt;dbl&gt;</th><th scope=col>&lt;dbl&gt;</th><th scope=col>&lt;dbl&gt;</th><th scope=col>⋯</th><th scope=col>&lt;dbl&gt;</th><th scope=col>&lt;dbl&gt;</th><th scope=col>&lt;dbl&gt;</th><th scope=col>&lt;dbl&gt;</th><th scope=col>&lt;dbl&gt;</th><th scope=col>&lt;dbl&gt;</th><th scope=col>&lt;dbl&gt;</th><th scope=col>&lt;dbl&gt;</th><th scope=col>&lt;dbl&gt;</th><th scope=col>&lt;dbl&gt;</th></tr>\n",
       "</thead>\n",
       "<tbody>\n",
       "\t<tr><td>Kurdish leaders studying western delegation plan to delay referendum                                                                         </td><td>worldnews      </td><td>14-Sep-17</td><td>True</td><td>0.22826366</td><td>0</td><td>0.00000000</td><td>0.12165498</td><td>0.00000000</td><td>0</td><td>⋯</td><td>0.0000000</td><td>0.00000000</td><td>0.00000000</td><td>0</td><td>0</td><td>0.2081152</td><td>0</td><td>0.0000000</td><td>0</td><td>0.4257102</td></tr>\n",
       "\t<tr><td><span style=white-space:pre-wrap>FORD&lt;U+2019&gt;S NEW CEO SNUBS President Trump&lt;U+2026&gt;Will Build Focus In China&lt;U+2026&gt;Export To U.S.                                           </span></td><td><span style=white-space:pre-wrap>left-news      </span></td><td>20-Jun-17</td><td>Fake</td><td>0.03705829</td><td>0</td><td>0.30295718</td><td>0.07900207</td><td>0.00000000</td><td>0</td><td>⋯</td><td>0.0000000</td><td>0.00000000</td><td>0.00000000</td><td>0</td><td>0</td><td>0.0000000</td><td>0</td><td>0.0000000</td><td>0</td><td>0.2764538</td></tr>\n",
       "\t<tr><td>U.S. Russia envoy cancels trip saying Russian officials won't meet him                                                                       </td><td>worldnews      </td><td>1-Dec-17 </td><td>True</td><td>0.08427584</td><td>0</td><td>0.19684796</td><td>0.00000000</td><td>0.00000000</td><td>0</td><td>⋯</td><td>0.0000000</td><td>0.00000000</td><td>0.00000000</td><td>0</td><td>0</td><td>0.0000000</td><td>0</td><td>0.0000000</td><td>0</td><td>0.6286955</td></tr>\n",
       "\t<tr><td>Attorney General Sessions visits White House, not Trump                                                                                      </td><td>politicsNews   </td><td>24-Jul-17</td><td>True</td><td>0.11622534</td><td>0</td><td>0.27147426</td><td>0.00000000</td><td>0.00000000</td><td>0</td><td>⋯</td><td>0.0000000</td><td>0.00000000</td><td>0.00000000</td><td>0</td><td>0</td><td>0.0000000</td><td>0</td><td>0.0000000</td><td>0</td><td>0.4335190</td></tr>\n",
       "\t<tr><td>Kremlin: Putin, Trump to meet on sidelines of G20 summit                                                                                     </td><td>politicsNews   </td><td>29-Jun-17</td><td>True</td><td>0.08346842</td><td>0</td><td>0.09748101</td><td>0.00000000</td><td>0.00000000</td><td>0</td><td>⋯</td><td>0.0000000</td><td>0.00000000</td><td>0.00000000</td><td>0</td><td>0</td><td>0.0000000</td><td>0</td><td>0.0000000</td><td>0</td><td>0.6226722</td></tr>\n",
       "\t<tr><td><span style=white-space:pre-wrap>WIKILEAKS Posts NEW Document&lt;U+2026&gt;Shows Hillary Reportedly Asked: &lt;U+201D&gt; Can&lt;U+2019&gt;t we just drone this guy [Julian Assange]?&lt;U+201D&gt;   </span></td><td>Government News</td><td>3-Oct-16 </td><td>Fake</td><td>0.00000000</td><td>0</td><td>0.07924330</td><td>0.00000000</td><td>0.10837615</td><td>0</td><td>⋯</td><td>0.0000000</td><td>0.00000000</td><td>0.00000000</td><td>0</td><td>0</td><td>0.0000000</td><td>0</td><td>0.0000000</td><td>0</td><td>0.2530883</td></tr>\n",
       "\t<tr><td><span style=white-space:pre-wrap>FEDS ISSUE TERROR ALERT FOR JULY 4TH&lt;U+2026&gt;WAIT, I THOUGHT OBAMA SAID ISIS IS JUST A JV TEAM?!                                              </span></td><td>Government News</td><td>28-Jun-15</td><td>Fake</td><td>0.00000000</td><td>0</td><td>0.16097175</td><td>0.00000000</td><td>0.00000000</td><td>0</td><td>⋯</td><td>0.0000000</td><td>0.00000000</td><td>0.00000000</td><td>0</td><td>0</td><td>0.0000000</td><td>0</td><td>0.0000000</td><td>0</td><td>0.2570568</td></tr>\n",
       "\t<tr><td><span style=white-space:pre-wrap>SELLING OUT AMERICA TO TERRORIST STATES IS HARD WORK: Barry Heads To Martha&lt;U+2019&gt;s Vineyard A Day Ahead Of Schedule                        </span></td><td><span style=white-space:pre-wrap>politics       </span></td><td>8-Aug-15 </td><td>Fake</td><td>0.14387993</td><td>0</td><td>0.00000000</td><td>0.20448528</td><td>0.00000000</td><td>0</td><td>⋯</td><td>0.0000000</td><td>0.00000000</td><td>0.00000000</td><td>0</td><td>0</td><td>0.0000000</td><td>0</td><td>0.0000000</td><td>0</td><td>0.3577801</td></tr>\n",
       "\t<tr><td>Trump tells House leaders to cancel healthcare bill vote                                                                                     </td><td>politicsNews   </td><td>24-Mar-17</td><td>True</td><td>0.00000000</td><td>0</td><td>0.00000000</td><td>0.00000000</td><td>0.00000000</td><td>0</td><td>⋯</td><td>0.0000000</td><td>0.00000000</td><td>0.00000000</td><td>0</td><td>0</td><td>0.0000000</td><td>0</td><td>0.0000000</td><td>0</td><td>0.4516895</td></tr>\n",
       "\t<tr><td>Pence cancels trip to work on healthcare as House vote looms                                                                                 </td><td>politicsNews   </td><td>24-Mar-17</td><td>True</td><td>0.00000000</td><td>0</td><td>0.07674535</td><td>0.00000000</td><td>0.00000000</td><td>0</td><td>⋯</td><td>0.0000000</td><td>0.00000000</td><td>0.00000000</td><td>0</td><td>0</td><td>0.0000000</td><td>0</td><td>0.0000000</td><td>0</td><td>0.4902206</td></tr>\n",
       "\t<tr><td><span style=white-space:pre-wrap>PRESIDENT TRUMP SHOCKS PRESS CORP&lt;U+2026&gt;Makes Unannounced Trip With Ivanka Trump                                                            </span></td><td><span style=white-space:pre-wrap>politics       </span></td><td>1-Feb-17 </td><td>Fake</td><td>0.20572307</td><td>0</td><td>0.00000000</td><td>0.00000000</td><td>0.00000000</td><td>0</td><td>⋯</td><td>0.0000000</td><td>0.00000000</td><td>0.00000000</td><td>0</td><td>0</td><td>0.0000000</td><td>0</td><td>0.0000000</td><td>0</td><td>0.2557814</td></tr>\n",
       "\t<tr><td>STUNNING: First Lady Melania Trump Welcomes Israeli Prime Minister Netanyahu [Video]                                                         </td><td>Government News</td><td>15-Feb-17</td><td>Fake</td><td>0.16659085</td><td>0</td><td>0.00000000</td><td>0.00000000</td><td>0.00000000</td><td>0</td><td>⋯</td><td>0.0000000</td><td>0.00000000</td><td>0.00000000</td><td>0</td><td>0</td><td>0.0000000</td><td>0</td><td>0.0000000</td><td>0</td><td>0.3106908</td></tr>\n",
       "\t<tr><td><span style=white-space:pre-wrap>False Flag Florida: FBI Agents &lt;U+2018&gt;Posing As Terrorists&lt;U+2019&gt; in Miami Sting Operation                                                 </span></td><td><span style=white-space:pre-wrap>US_News        </span></td><td>3-May-16 </td><td>Fake</td><td>0.03717067</td><td>0</td><td>0.04341084</td><td>0.00000000</td><td>0.00000000</td><td>0</td><td>⋯</td><td>0.1431876</td><td>0.00000000</td><td>0.00000000</td><td>0</td><td>0</td><td>0.0000000</td><td>0</td><td>0.0000000</td><td>0</td><td>0.2772922</td></tr>\n",
       "\t<tr><td><span style=white-space:pre-wrap>False Flag Florida: FBI Agents &lt;U+2018&gt;Posing As Terrorists&lt;U+2019&gt; in Miami Sting Operation                                                 </span></td><td><span style=white-space:pre-wrap>Middle-east    </span></td><td>3-May-16 </td><td>Fake</td><td>0.03717067</td><td>0</td><td>0.04341084</td><td>0.00000000</td><td>0.00000000</td><td>0</td><td>⋯</td><td>0.1431876</td><td>0.00000000</td><td>0.00000000</td><td>0</td><td>0</td><td>0.0000000</td><td>0</td><td>0.0000000</td><td>0</td><td>0.2772922</td></tr>\n",
       "\t<tr><td>Thousands of anti-Catalan independence protesters gather in Barcelona                                                                        </td><td>worldnews      </td><td>30-Sep-17</td><td>True</td><td>0.00000000</td><td>0</td><td>0.00000000</td><td>0.00000000</td><td>0.00000000</td><td>0</td><td>⋯</td><td>0.0000000</td><td>0.00000000</td><td>0.00000000</td><td>0</td><td>0</td><td>0.0000000</td><td>0</td><td>0.0000000</td><td>0</td><td>0.4489437</td></tr>\n",
       "\t<tr><td>House committee postpones hearing on Puerto Rico                                                                                             </td><td>politicsNews   </td><td>19-Oct-17</td><td>True</td><td>0.21033247</td><td>0</td><td>0.24564286</td><td>0.00000000</td><td>0.00000000</td><td>0</td><td>⋯</td><td>0.0000000</td><td>0.00000000</td><td>0.00000000</td><td>0</td><td>0</td><td>0.0000000</td><td>0</td><td>0.0000000</td><td>0</td><td>0.3922686</td></tr>\n",
       "\t<tr><td>U.S. concerned Iraqi Kurdish referendum will distract from war: State Department                                                             </td><td>politicsNews   </td><td>8-Jun-17 </td><td>True</td><td>0.06258382</td><td>0</td><td>0.21927098</td><td>0.00000000</td><td>0.00000000</td><td>0</td><td>⋯</td><td>0.0000000</td><td>0.00000000</td><td>0.00000000</td><td>0</td><td>0</td><td>0.0000000</td><td>0</td><td>0.0000000</td><td>0</td><td>0.4668736</td></tr>\n",
       "\t<tr><td><span style=white-space:pre-wrap>WIKILEAKS Posts NEW Document&lt;U+2026&gt;Shows Hillary Reportedly Asked: &lt;U+201D&gt; Can&lt;U+2019&gt;t we just drone this guy [Julian Assange]?&lt;U+201D&gt;   </span></td><td><span style=white-space:pre-wrap>left-news      </span></td><td>3-Oct-16 </td><td>Fake</td><td>0.00000000</td><td>0</td><td>0.07924330</td><td>0.00000000</td><td>0.10837615</td><td>0</td><td>⋯</td><td>0.0000000</td><td>0.00000000</td><td>0.00000000</td><td>0</td><td>0</td><td>0.0000000</td><td>0</td><td>0.0000000</td><td>0</td><td>0.2530883</td></tr>\n",
       "\t<tr><td><span style=white-space:pre-wrap>DONALD TRUMP TO GIVE Symbolic &lt;U+2018&gt;First 100 Days&lt;U+2019&gt; Speech at Gettysburg Tomorrow                                                   </span></td><td><span style=white-space:pre-wrap>politics       </span></td><td>22-Oct-16</td><td>Fake</td><td>0.14300821</td><td>0</td><td>0.00000000</td><td>0.00000000</td><td>0.00000000</td><td>0</td><td>⋯</td><td>0.0000000</td><td>0.00000000</td><td>0.00000000</td><td>0</td><td>0</td><td>0.0000000</td><td>0</td><td>0.0000000</td><td>0</td><td>0.2667094</td></tr>\n",
       "\t<tr><td>U.S. 'strongly opposes' Iraqi Kurdish independence vote: State Department                                                                    </td><td>worldnews      </td><td>20-Sep-17</td><td>True</td><td>0.10034811</td><td>0</td><td>0.23438891</td><td>0.00000000</td><td>0.00000000</td><td>0</td><td>⋯</td><td>0.0000000</td><td>0.00000000</td><td>0.00000000</td><td>0</td><td>0</td><td>0.0000000</td><td>0</td><td>0.0000000</td><td>0</td><td>0.7485943</td></tr>\n",
       "\t<tr><td><span style=white-space:pre-wrap>FORD&lt;U+2019&gt;S NEW CEO SNUBS President Trump&lt;U+2026&gt;Will Build Focus In China&lt;U+2026&gt;Export To U.S.                                           </span></td><td><span style=white-space:pre-wrap>politics       </span></td><td>20-Jun-17</td><td>Fake</td><td>0.03705829</td><td>0</td><td>0.30295718</td><td>0.07900207</td><td>0.00000000</td><td>0</td><td>⋯</td><td>0.0000000</td><td>0.00000000</td><td>0.00000000</td><td>0</td><td>0</td><td>0.0000000</td><td>0</td><td>0.0000000</td><td>0</td><td>0.2764538</td></tr>\n",
       "\t<tr><td>Trump to meet with CIA, FBI and DNI chiefs on Friday: spokesman                                                                              </td><td>politicsNews   </td><td>4-Jan-17 </td><td>True</td><td>0.11335500</td><td>0</td><td>0.26476983</td><td>0.24165387</td><td>0.00000000</td><td>0</td><td>⋯</td><td>0.0000000</td><td>0.00000000</td><td>0.00000000</td><td>0</td><td>0</td><td>0.0000000</td><td>0</td><td>0.0000000</td><td>0</td><td>0.4228126</td></tr>\n",
       "\t<tr><td><span style=white-space:pre-wrap> Kremlin Threatens Trump: Stop Leaking Like A Colander Or We&lt;U+2019&gt;ll Release Info                                                          </span></td><td><span style=white-space:pre-wrap>News           </span></td><td>26-Mar-17</td><td>Fake</td><td>0.13924776</td><td>0</td><td>0.00000000</td><td>0.00000000</td><td>0.05560287</td><td>0</td><td>⋯</td><td>0.0000000</td><td>0.00000000</td><td>0.00000000</td><td>0</td><td>0</td><td>0.0000000</td><td>0</td><td>0.0000000</td><td>0</td><td>0.2596961</td></tr>\n",
       "\t<tr><td>'Nasty woman' and Ken Bone: election's viral stars a hit for Halloween                                                                       </td><td>politicsNews   </td><td>27-Oct-16</td><td>True</td><td>0.07966688</td><td>0</td><td>0.24811006</td><td>0.00000000</td><td>0.04241560</td><td>0</td><td>⋯</td><td>0.0000000</td><td>0.09207506</td><td>0.00000000</td><td>0</td><td>0</td><td>0.0000000</td><td>0</td><td>0.0000000</td><td>0</td><td>0.3962085</td></tr>\n",
       "\t<tr><td>Energy Secretary Perry cancels Kazakhstan visit due to hurricane                                                                             </td><td>politicsNews   </td><td>28-Aug-17</td><td>True</td><td>0.05870862</td><td>0</td><td>0.20569370</td><td>0.00000000</td><td>0.00000000</td><td>0</td><td>⋯</td><td>0.0000000</td><td>0.00000000</td><td>0.00000000</td><td>0</td><td>0</td><td>0.0000000</td><td>0</td><td>0.2270758</td><td>0</td><td>0.4379648</td></tr>\n",
       "\t<tr><td>JUST IN: UK LEADER Who Criticized President Trump For Tweeting About ISLAMIC EXTREMISTS Is Victim Of Assassination Plot By ISLAMIC EXTREMISTS</td><td>left-news      </td><td>5-Dec-17 </td><td>Fake</td><td>0.11276656</td><td>0</td><td>0.09877327</td><td>0.00000000</td><td>0.04502869</td><td>0</td><td>⋯</td><td>0.1085989</td><td>0.00000000</td><td>0.09353608</td><td>0</td><td>0</td><td>0.0000000</td><td>0</td><td>0.0000000</td><td>0</td><td>0.3154633</td></tr>\n",
       "\t<tr><td>UK PM May postpones trip to China to avoid timetable clash with Trump: Sky                                                                   </td><td>worldnews      </td><td>6-Oct-17 </td><td>True</td><td>0.11574944</td><td>0</td><td>0.13518133</td><td>0.00000000</td><td>0.00000000</td><td>0</td><td>⋯</td><td>0.0000000</td><td>0.00000000</td><td>0.00000000</td><td>0</td><td>0</td><td>0.0000000</td><td>0</td><td>0.0000000</td><td>0</td><td>0.4317438</td></tr>\n",
       "\t<tr><td>McCain vows to undo U.S. legislation that eased Russian rocket engine ban                                                                    </td><td>politicsNews   </td><td>27-Jan-16</td><td>True</td><td>0.00000000</td><td>0</td><td>0.06679078</td><td>0.00000000</td><td>0.00000000</td><td>0</td><td>⋯</td><td>0.0000000</td><td>0.00000000</td><td>0.00000000</td><td>0</td><td>0</td><td>0.0000000</td><td>0</td><td>0.0000000</td><td>0</td><td>0.4266345</td></tr>\n",
       "\t<tr><td><span style=white-space:pre-wrap> Veterans SHRED Trump For Exploiting Navy SEAL&lt;U+2019&gt;s Death While Press FAWNS All Over Him For It                                          </span></td><td><span style=white-space:pre-wrap>News           </span></td><td>1-Mar-17 </td><td>Fake</td><td>0.28454033</td><td>0</td><td>0.00000000</td><td>0.00000000</td><td>0.06492543</td><td>0</td><td>⋯</td><td>0.0000000</td><td>0.00000000</td><td>0.00000000</td><td>0</td><td>0</td><td>0.0000000</td><td>0</td><td>0.0000000</td><td>0</td><td>0.4548564</td></tr>\n",
       "\t<tr><td>BREAKING! REPUBLICANS PULL VOTE ON BANNING CONFEDERATE FLAG                                                                                  </td><td>Government News</td><td>9-Jul-15 </td><td>Fake</td><td>0.06164721</td><td>0</td><td>0.07199649</td><td>0.00000000</td><td>0.00000000</td><td>0</td><td>⋯</td><td>0.0000000</td><td>0.00000000</td><td>0.00000000</td><td>0</td><td>0</td><td>0.0000000</td><td>0</td><td>0.0000000</td><td>0</td><td>0.4598866</td></tr>\n",
       "\t<tr><td>FBI schedules 11 a.m. news conference on Florida nightclub shooting                                                                          </td><td>politicsNews   </td><td>20-Jun-16</td><td>True</td><td>0.11603690</td><td>0</td><td>0.20327558</td><td>0.00000000</td><td>0.00000000</td><td>0</td><td>⋯</td><td>0.0000000</td><td>0.00000000</td><td>0.00000000</td><td>0</td><td>0</td><td>0.0000000</td><td>0</td><td>0.0000000</td><td>0</td><td>0.4328161</td></tr>\n",
       "\t<tr><td><span style=white-space:pre-wrap>VETERANS CAN&lt;U+2019&gt;T GET HEALTH CARE&lt;U+2026&gt;But These MN Somali Muslims Got US Taxpayer Dollars For College&lt;U+2026&gt;Used It For Jihad        </span></td><td><span style=white-space:pre-wrap>politics       </span></td><td>22-May-15</td><td>Fake</td><td>0.11856216</td><td>0</td><td>0.00000000</td><td>0.00000000</td><td>0.00000000</td><td>0</td><td>⋯</td><td>0.0000000</td><td>0.00000000</td><td>0.00000000</td><td>0</td><td>0</td><td>0.0000000</td><td>0</td><td>0.0000000</td><td>0</td><td>0.2653412</td></tr>\n",
       "\t<tr><td>Former intelligence chief Clapper: Comey was uneasy with Trump dinner - MSNBC                                                                </td><td>politicsNews   </td><td>12-May-17</td><td>True</td><td>0.10779749</td><td>0</td><td>0.25178885</td><td>0.00000000</td><td>0.00000000</td><td>0</td><td>⋯</td><td>0.0000000</td><td>0.00000000</td><td>0.00000000</td><td>0</td><td>0</td><td>0.0000000</td><td>0</td><td>0.0000000</td><td>0</td><td>0.4020832</td></tr>\n",
       "\t<tr><td><span style=white-space:pre-wrap>5-Star Mooch and Free-Loading Granny Drop In For Lunch In New York On The Taxpayer&lt;U+2019&gt;s Dime&lt;U+2026&gt;                                     </span></td><td><span style=white-space:pre-wrap>politics       </span></td><td>20-Apr-15</td><td>Fake</td><td>0.48323780</td><td>0</td><td>0.00000000</td><td>0.00000000</td><td>0.00000000</td><td>0</td><td>⋯</td><td>0.0000000</td><td>0.00000000</td><td>0.00000000</td><td>0</td><td>0</td><td>0.0000000</td><td>0</td><td>0.0000000</td><td>0</td><td>0.2574958</td></tr>\n",
       "\t<tr><td>White House cancels Trump event at Labor Dept after gunman shoots lawmaker                                                                   </td><td>politicsNews   </td><td>14-Jun-17</td><td>True</td><td>0.11294814</td><td>0</td><td>0.13190976</td><td>0.00000000</td><td>0.00000000</td><td>0</td><td>⋯</td><td>0.0000000</td><td>0.00000000</td><td>0.00000000</td><td>0</td><td>0</td><td>0.0000000</td><td>0</td><td>0.0000000</td><td>0</td><td>0.4212951</td></tr>\n",
       "\t<tr><td><span style=white-space:pre-wrap>VETERANS CAN&lt;U+2019&gt;T GET HEALTH CARE&lt;U+2026&gt;But These MN Somali Muslims Got US Taxpayer Dollars For College&lt;U+2026&gt;Used It For Jihad        </span></td><td>Government News</td><td>22-May-15</td><td>Fake</td><td>0.11856216</td><td>0</td><td>0.00000000</td><td>0.00000000</td><td>0.00000000</td><td>0</td><td>⋯</td><td>0.0000000</td><td>0.00000000</td><td>0.00000000</td><td>0</td><td>0</td><td>0.0000000</td><td>0</td><td>0.0000000</td><td>0</td><td>0.2653412</td></tr>\n",
       "\t<tr><td><span style=white-space:pre-wrap>VETERANS CAN&lt;U+2019&gt;T GET HEALTH CARE&lt;U+2026&gt;But These MN Somali Muslims Got US Taxpayer Dollars For College&lt;U+2026&gt;Used It For Jihad        </span></td><td><span style=white-space:pre-wrap>left-news      </span></td><td>22-May-15</td><td>Fake</td><td>0.11856216</td><td>0</td><td>0.00000000</td><td>0.00000000</td><td>0.00000000</td><td>0</td><td>⋯</td><td>0.0000000</td><td>0.00000000</td><td>0.00000000</td><td>0</td><td>0</td><td>0.0000000</td><td>0</td><td>0.0000000</td><td>0</td><td>0.2653412</td></tr>\n",
       "\t<tr><td>Spain's Rajoy calls on Catalonia leaders to cancel referendum                                                                                </td><td>worldnews      </td><td>20-Sep-17</td><td>True</td><td>0.12534683</td><td>0</td><td>0.14638993</td><td>0.00000000</td><td>0.20020843</td><td>0</td><td>⋯</td><td>0.0000000</td><td>0.00000000</td><td>0.00000000</td><td>0</td><td>0</td><td>0.0000000</td><td>0</td><td>0.0000000</td><td>0</td><td>0.4675420</td></tr>\n",
       "\t<tr><td>Top two Republicans in Congress challenge Democrats to attend Trump meeting                                                                  </td><td>politicsNews   </td><td>28-Nov-17</td><td>True</td><td>0.00000000</td><td>0</td><td>0.27416298</td><td>0.12511347</td><td>0.00000000</td><td>0</td><td>⋯</td><td>0.0000000</td><td>0.00000000</td><td>0.00000000</td><td>0</td><td>0</td><td>0.0000000</td><td>0</td><td>0.0000000</td><td>0</td><td>0.4378126</td></tr>\n",
       "\t<tr><td>WATCH TRUMP SUPPORTERS CRASH Pro-Sanctuary City Press Conference Where Radicals Call for Open Borders [Video]                                </td><td>left-news      </td><td>6-Aug-17 </td><td>Fake</td><td>0.22444641</td><td>0</td><td>0.17475083</td><td>0.00000000</td><td>0.05974897</td><td>0</td><td>⋯</td><td>0.0000000</td><td>0.00000000</td><td>0.00000000</td><td>0</td><td>0</td><td>0.1364232</td><td>0</td><td>0.0000000</td><td>0</td><td>0.2790607</td></tr>\n",
       "</tbody>\n",
       "</table>\n"
      ],
      "text/latex": [
       "A grouped\\_df: 40 × 604\n",
       "\\begin{tabular}{lllllllllllllllllllll}\n",
       " title & subject & date & label & s & trump & said & president & t & u & ⋯ & services & cut & latest & questions & received & rally & peace & oil & access & planned\\\\\n",
       " <chr> & <chr> & <chr> & <chr> & <dbl> & <dbl> & <dbl> & <dbl> & <dbl> & <dbl> & ⋯ & <dbl> & <dbl> & <dbl> & <dbl> & <dbl> & <dbl> & <dbl> & <dbl> & <dbl> & <dbl>\\\\\n",
       "\\hline\n",
       "\t Kurdish leaders studying western delegation plan to delay referendum                                                                          & worldnews       & 14-Sep-17 & True & 0.22826366 & 0 & 0.00000000 & 0.12165498 & 0.00000000 & 0 & ⋯ & 0.0000000 & 0.00000000 & 0.00000000 & 0 & 0 & 0.2081152 & 0 & 0.0000000 & 0 & 0.4257102\\\\\n",
       "\t FORD<U+2019>S NEW CEO SNUBS President Trump<U+2026>Will Build Focus In China<U+2026>Export To U.S.                                            & left-news       & 20-Jun-17 & Fake & 0.03705829 & 0 & 0.30295718 & 0.07900207 & 0.00000000 & 0 & ⋯ & 0.0000000 & 0.00000000 & 0.00000000 & 0 & 0 & 0.0000000 & 0 & 0.0000000 & 0 & 0.2764538\\\\\n",
       "\t U.S. Russia envoy cancels trip saying Russian officials won't meet him                                                                        & worldnews       & 1-Dec-17  & True & 0.08427584 & 0 & 0.19684796 & 0.00000000 & 0.00000000 & 0 & ⋯ & 0.0000000 & 0.00000000 & 0.00000000 & 0 & 0 & 0.0000000 & 0 & 0.0000000 & 0 & 0.6286955\\\\\n",
       "\t Attorney General Sessions visits White House, not Trump                                                                                       & politicsNews    & 24-Jul-17 & True & 0.11622534 & 0 & 0.27147426 & 0.00000000 & 0.00000000 & 0 & ⋯ & 0.0000000 & 0.00000000 & 0.00000000 & 0 & 0 & 0.0000000 & 0 & 0.0000000 & 0 & 0.4335190\\\\\n",
       "\t Kremlin: Putin, Trump to meet on sidelines of G20 summit                                                                                      & politicsNews    & 29-Jun-17 & True & 0.08346842 & 0 & 0.09748101 & 0.00000000 & 0.00000000 & 0 & ⋯ & 0.0000000 & 0.00000000 & 0.00000000 & 0 & 0 & 0.0000000 & 0 & 0.0000000 & 0 & 0.6226722\\\\\n",
       "\t WIKILEAKS Posts NEW Document<U+2026>Shows Hillary Reportedly Asked: <U+201D> Can<U+2019>t we just drone this guy {[}Julian Assange{]}?<U+201D>    & Government News & 3-Oct-16  & Fake & 0.00000000 & 0 & 0.07924330 & 0.00000000 & 0.10837615 & 0 & ⋯ & 0.0000000 & 0.00000000 & 0.00000000 & 0 & 0 & 0.0000000 & 0 & 0.0000000 & 0 & 0.2530883\\\\\n",
       "\t FEDS ISSUE TERROR ALERT FOR JULY 4TH<U+2026>WAIT, I THOUGHT OBAMA SAID ISIS IS JUST A JV TEAM?!                                               & Government News & 28-Jun-15 & Fake & 0.00000000 & 0 & 0.16097175 & 0.00000000 & 0.00000000 & 0 & ⋯ & 0.0000000 & 0.00000000 & 0.00000000 & 0 & 0 & 0.0000000 & 0 & 0.0000000 & 0 & 0.2570568\\\\\n",
       "\t SELLING OUT AMERICA TO TERRORIST STATES IS HARD WORK: Barry Heads To Martha<U+2019>s Vineyard A Day Ahead Of Schedule                         & politics        & 8-Aug-15  & Fake & 0.14387993 & 0 & 0.00000000 & 0.20448528 & 0.00000000 & 0 & ⋯ & 0.0000000 & 0.00000000 & 0.00000000 & 0 & 0 & 0.0000000 & 0 & 0.0000000 & 0 & 0.3577801\\\\\n",
       "\t Trump tells House leaders to cancel healthcare bill vote                                                                                      & politicsNews    & 24-Mar-17 & True & 0.00000000 & 0 & 0.00000000 & 0.00000000 & 0.00000000 & 0 & ⋯ & 0.0000000 & 0.00000000 & 0.00000000 & 0 & 0 & 0.0000000 & 0 & 0.0000000 & 0 & 0.4516895\\\\\n",
       "\t Pence cancels trip to work on healthcare as House vote looms                                                                                  & politicsNews    & 24-Mar-17 & True & 0.00000000 & 0 & 0.07674535 & 0.00000000 & 0.00000000 & 0 & ⋯ & 0.0000000 & 0.00000000 & 0.00000000 & 0 & 0 & 0.0000000 & 0 & 0.0000000 & 0 & 0.4902206\\\\\n",
       "\t PRESIDENT TRUMP SHOCKS PRESS CORP<U+2026>Makes Unannounced Trip With Ivanka Trump                                                             & politics        & 1-Feb-17  & Fake & 0.20572307 & 0 & 0.00000000 & 0.00000000 & 0.00000000 & 0 & ⋯ & 0.0000000 & 0.00000000 & 0.00000000 & 0 & 0 & 0.0000000 & 0 & 0.0000000 & 0 & 0.2557814\\\\\n",
       "\t STUNNING: First Lady Melania Trump Welcomes Israeli Prime Minister Netanyahu {[}Video{]}                                                          & Government News & 15-Feb-17 & Fake & 0.16659085 & 0 & 0.00000000 & 0.00000000 & 0.00000000 & 0 & ⋯ & 0.0000000 & 0.00000000 & 0.00000000 & 0 & 0 & 0.0000000 & 0 & 0.0000000 & 0 & 0.3106908\\\\\n",
       "\t False Flag Florida: FBI Agents <U+2018>Posing As Terrorists<U+2019> in Miami Sting Operation                                                  & US\\_News         & 3-May-16  & Fake & 0.03717067 & 0 & 0.04341084 & 0.00000000 & 0.00000000 & 0 & ⋯ & 0.1431876 & 0.00000000 & 0.00000000 & 0 & 0 & 0.0000000 & 0 & 0.0000000 & 0 & 0.2772922\\\\\n",
       "\t False Flag Florida: FBI Agents <U+2018>Posing As Terrorists<U+2019> in Miami Sting Operation                                                  & Middle-east     & 3-May-16  & Fake & 0.03717067 & 0 & 0.04341084 & 0.00000000 & 0.00000000 & 0 & ⋯ & 0.1431876 & 0.00000000 & 0.00000000 & 0 & 0 & 0.0000000 & 0 & 0.0000000 & 0 & 0.2772922\\\\\n",
       "\t Thousands of anti-Catalan independence protesters gather in Barcelona                                                                         & worldnews       & 30-Sep-17 & True & 0.00000000 & 0 & 0.00000000 & 0.00000000 & 0.00000000 & 0 & ⋯ & 0.0000000 & 0.00000000 & 0.00000000 & 0 & 0 & 0.0000000 & 0 & 0.0000000 & 0 & 0.4489437\\\\\n",
       "\t House committee postpones hearing on Puerto Rico                                                                                              & politicsNews    & 19-Oct-17 & True & 0.21033247 & 0 & 0.24564286 & 0.00000000 & 0.00000000 & 0 & ⋯ & 0.0000000 & 0.00000000 & 0.00000000 & 0 & 0 & 0.0000000 & 0 & 0.0000000 & 0 & 0.3922686\\\\\n",
       "\t U.S. concerned Iraqi Kurdish referendum will distract from war: State Department                                                              & politicsNews    & 8-Jun-17  & True & 0.06258382 & 0 & 0.21927098 & 0.00000000 & 0.00000000 & 0 & ⋯ & 0.0000000 & 0.00000000 & 0.00000000 & 0 & 0 & 0.0000000 & 0 & 0.0000000 & 0 & 0.4668736\\\\\n",
       "\t WIKILEAKS Posts NEW Document<U+2026>Shows Hillary Reportedly Asked: <U+201D> Can<U+2019>t we just drone this guy {[}Julian Assange{]}?<U+201D>    & left-news       & 3-Oct-16  & Fake & 0.00000000 & 0 & 0.07924330 & 0.00000000 & 0.10837615 & 0 & ⋯ & 0.0000000 & 0.00000000 & 0.00000000 & 0 & 0 & 0.0000000 & 0 & 0.0000000 & 0 & 0.2530883\\\\\n",
       "\t DONALD TRUMP TO GIVE Symbolic <U+2018>First 100 Days<U+2019> Speech at Gettysburg Tomorrow                                                    & politics        & 22-Oct-16 & Fake & 0.14300821 & 0 & 0.00000000 & 0.00000000 & 0.00000000 & 0 & ⋯ & 0.0000000 & 0.00000000 & 0.00000000 & 0 & 0 & 0.0000000 & 0 & 0.0000000 & 0 & 0.2667094\\\\\n",
       "\t U.S. 'strongly opposes' Iraqi Kurdish independence vote: State Department                                                                     & worldnews       & 20-Sep-17 & True & 0.10034811 & 0 & 0.23438891 & 0.00000000 & 0.00000000 & 0 & ⋯ & 0.0000000 & 0.00000000 & 0.00000000 & 0 & 0 & 0.0000000 & 0 & 0.0000000 & 0 & 0.7485943\\\\\n",
       "\t FORD<U+2019>S NEW CEO SNUBS President Trump<U+2026>Will Build Focus In China<U+2026>Export To U.S.                                            & politics        & 20-Jun-17 & Fake & 0.03705829 & 0 & 0.30295718 & 0.07900207 & 0.00000000 & 0 & ⋯ & 0.0000000 & 0.00000000 & 0.00000000 & 0 & 0 & 0.0000000 & 0 & 0.0000000 & 0 & 0.2764538\\\\\n",
       "\t Trump to meet with CIA, FBI and DNI chiefs on Friday: spokesman                                                                               & politicsNews    & 4-Jan-17  & True & 0.11335500 & 0 & 0.26476983 & 0.24165387 & 0.00000000 & 0 & ⋯ & 0.0000000 & 0.00000000 & 0.00000000 & 0 & 0 & 0.0000000 & 0 & 0.0000000 & 0 & 0.4228126\\\\\n",
       "\t  Kremlin Threatens Trump: Stop Leaking Like A Colander Or We<U+2019>ll Release Info                                                           & News            & 26-Mar-17 & Fake & 0.13924776 & 0 & 0.00000000 & 0.00000000 & 0.05560287 & 0 & ⋯ & 0.0000000 & 0.00000000 & 0.00000000 & 0 & 0 & 0.0000000 & 0 & 0.0000000 & 0 & 0.2596961\\\\\n",
       "\t 'Nasty woman' and Ken Bone: election's viral stars a hit for Halloween                                                                        & politicsNews    & 27-Oct-16 & True & 0.07966688 & 0 & 0.24811006 & 0.00000000 & 0.04241560 & 0 & ⋯ & 0.0000000 & 0.09207506 & 0.00000000 & 0 & 0 & 0.0000000 & 0 & 0.0000000 & 0 & 0.3962085\\\\\n",
       "\t Energy Secretary Perry cancels Kazakhstan visit due to hurricane                                                                              & politicsNews    & 28-Aug-17 & True & 0.05870862 & 0 & 0.20569370 & 0.00000000 & 0.00000000 & 0 & ⋯ & 0.0000000 & 0.00000000 & 0.00000000 & 0 & 0 & 0.0000000 & 0 & 0.2270758 & 0 & 0.4379648\\\\\n",
       "\t JUST IN: UK LEADER Who Criticized President Trump For Tweeting About ISLAMIC EXTREMISTS Is Victim Of Assassination Plot By ISLAMIC EXTREMISTS & left-news       & 5-Dec-17  & Fake & 0.11276656 & 0 & 0.09877327 & 0.00000000 & 0.04502869 & 0 & ⋯ & 0.1085989 & 0.00000000 & 0.09353608 & 0 & 0 & 0.0000000 & 0 & 0.0000000 & 0 & 0.3154633\\\\\n",
       "\t UK PM May postpones trip to China to avoid timetable clash with Trump: Sky                                                                    & worldnews       & 6-Oct-17  & True & 0.11574944 & 0 & 0.13518133 & 0.00000000 & 0.00000000 & 0 & ⋯ & 0.0000000 & 0.00000000 & 0.00000000 & 0 & 0 & 0.0000000 & 0 & 0.0000000 & 0 & 0.4317438\\\\\n",
       "\t McCain vows to undo U.S. legislation that eased Russian rocket engine ban                                                                     & politicsNews    & 27-Jan-16 & True & 0.00000000 & 0 & 0.06679078 & 0.00000000 & 0.00000000 & 0 & ⋯ & 0.0000000 & 0.00000000 & 0.00000000 & 0 & 0 & 0.0000000 & 0 & 0.0000000 & 0 & 0.4266345\\\\\n",
       "\t  Veterans SHRED Trump For Exploiting Navy SEAL<U+2019>s Death While Press FAWNS All Over Him For It                                           & News            & 1-Mar-17  & Fake & 0.28454033 & 0 & 0.00000000 & 0.00000000 & 0.06492543 & 0 & ⋯ & 0.0000000 & 0.00000000 & 0.00000000 & 0 & 0 & 0.0000000 & 0 & 0.0000000 & 0 & 0.4548564\\\\\n",
       "\t BREAKING! REPUBLICANS PULL VOTE ON BANNING CONFEDERATE FLAG                                                                                   & Government News & 9-Jul-15  & Fake & 0.06164721 & 0 & 0.07199649 & 0.00000000 & 0.00000000 & 0 & ⋯ & 0.0000000 & 0.00000000 & 0.00000000 & 0 & 0 & 0.0000000 & 0 & 0.0000000 & 0 & 0.4598866\\\\\n",
       "\t FBI schedules 11 a.m. news conference on Florida nightclub shooting                                                                           & politicsNews    & 20-Jun-16 & True & 0.11603690 & 0 & 0.20327558 & 0.00000000 & 0.00000000 & 0 & ⋯ & 0.0000000 & 0.00000000 & 0.00000000 & 0 & 0 & 0.0000000 & 0 & 0.0000000 & 0 & 0.4328161\\\\\n",
       "\t VETERANS CAN<U+2019>T GET HEALTH CARE<U+2026>But These MN Somali Muslims Got US Taxpayer Dollars For College<U+2026>Used It For Jihad         & politics        & 22-May-15 & Fake & 0.11856216 & 0 & 0.00000000 & 0.00000000 & 0.00000000 & 0 & ⋯ & 0.0000000 & 0.00000000 & 0.00000000 & 0 & 0 & 0.0000000 & 0 & 0.0000000 & 0 & 0.2653412\\\\\n",
       "\t Former intelligence chief Clapper: Comey was uneasy with Trump dinner - MSNBC                                                                 & politicsNews    & 12-May-17 & True & 0.10779749 & 0 & 0.25178885 & 0.00000000 & 0.00000000 & 0 & ⋯ & 0.0000000 & 0.00000000 & 0.00000000 & 0 & 0 & 0.0000000 & 0 & 0.0000000 & 0 & 0.4020832\\\\\n",
       "\t 5-Star Mooch and Free-Loading Granny Drop In For Lunch In New York On The Taxpayer<U+2019>s Dime<U+2026>                                      & politics        & 20-Apr-15 & Fake & 0.48323780 & 0 & 0.00000000 & 0.00000000 & 0.00000000 & 0 & ⋯ & 0.0000000 & 0.00000000 & 0.00000000 & 0 & 0 & 0.0000000 & 0 & 0.0000000 & 0 & 0.2574958\\\\\n",
       "\t White House cancels Trump event at Labor Dept after gunman shoots lawmaker                                                                    & politicsNews    & 14-Jun-17 & True & 0.11294814 & 0 & 0.13190976 & 0.00000000 & 0.00000000 & 0 & ⋯ & 0.0000000 & 0.00000000 & 0.00000000 & 0 & 0 & 0.0000000 & 0 & 0.0000000 & 0 & 0.4212951\\\\\n",
       "\t VETERANS CAN<U+2019>T GET HEALTH CARE<U+2026>But These MN Somali Muslims Got US Taxpayer Dollars For College<U+2026>Used It For Jihad         & Government News & 22-May-15 & Fake & 0.11856216 & 0 & 0.00000000 & 0.00000000 & 0.00000000 & 0 & ⋯ & 0.0000000 & 0.00000000 & 0.00000000 & 0 & 0 & 0.0000000 & 0 & 0.0000000 & 0 & 0.2653412\\\\\n",
       "\t VETERANS CAN<U+2019>T GET HEALTH CARE<U+2026>But These MN Somali Muslims Got US Taxpayer Dollars For College<U+2026>Used It For Jihad         & left-news       & 22-May-15 & Fake & 0.11856216 & 0 & 0.00000000 & 0.00000000 & 0.00000000 & 0 & ⋯ & 0.0000000 & 0.00000000 & 0.00000000 & 0 & 0 & 0.0000000 & 0 & 0.0000000 & 0 & 0.2653412\\\\\n",
       "\t Spain's Rajoy calls on Catalonia leaders to cancel referendum                                                                                 & worldnews       & 20-Sep-17 & True & 0.12534683 & 0 & 0.14638993 & 0.00000000 & 0.20020843 & 0 & ⋯ & 0.0000000 & 0.00000000 & 0.00000000 & 0 & 0 & 0.0000000 & 0 & 0.0000000 & 0 & 0.4675420\\\\\n",
       "\t Top two Republicans in Congress challenge Democrats to attend Trump meeting                                                                   & politicsNews    & 28-Nov-17 & True & 0.00000000 & 0 & 0.27416298 & 0.12511347 & 0.00000000 & 0 & ⋯ & 0.0000000 & 0.00000000 & 0.00000000 & 0 & 0 & 0.0000000 & 0 & 0.0000000 & 0 & 0.4378126\\\\\n",
       "\t WATCH TRUMP SUPPORTERS CRASH Pro-Sanctuary City Press Conference Where Radicals Call for Open Borders {[}Video{]}                                 & left-news       & 6-Aug-17  & Fake & 0.22444641 & 0 & 0.17475083 & 0.00000000 & 0.05974897 & 0 & ⋯ & 0.0000000 & 0.00000000 & 0.00000000 & 0 & 0 & 0.1364232 & 0 & 0.0000000 & 0 & 0.2790607\\\\\n",
       "\\end{tabular}\n"
      ],
      "text/markdown": [
       "\n",
       "A grouped_df: 40 × 604\n",
       "\n",
       "| title &lt;chr&gt; | subject &lt;chr&gt; | date &lt;chr&gt; | label &lt;chr&gt; | s &lt;dbl&gt; | trump &lt;dbl&gt; | said &lt;dbl&gt; | president &lt;dbl&gt; | t &lt;dbl&gt; | u &lt;dbl&gt; | ⋯ ⋯ | services &lt;dbl&gt; | cut &lt;dbl&gt; | latest &lt;dbl&gt; | questions &lt;dbl&gt; | received &lt;dbl&gt; | rally &lt;dbl&gt; | peace &lt;dbl&gt; | oil &lt;dbl&gt; | access &lt;dbl&gt; | planned &lt;dbl&gt; |\n",
       "|---|---|---|---|---|---|---|---|---|---|---|---|---|---|---|---|---|---|---|---|---|\n",
       "| Kurdish leaders studying western delegation plan to delay referendum                                                                          | worldnews       | 14-Sep-17 | True | 0.22826366 | 0 | 0.00000000 | 0.12165498 | 0.00000000 | 0 | ⋯ | 0.0000000 | 0.00000000 | 0.00000000 | 0 | 0 | 0.2081152 | 0 | 0.0000000 | 0 | 0.4257102 |\n",
       "| FORD&lt;U+2019&gt;S NEW CEO SNUBS President Trump&lt;U+2026&gt;Will Build Focus In China&lt;U+2026&gt;Export To U.S.                                            | left-news       | 20-Jun-17 | Fake | 0.03705829 | 0 | 0.30295718 | 0.07900207 | 0.00000000 | 0 | ⋯ | 0.0000000 | 0.00000000 | 0.00000000 | 0 | 0 | 0.0000000 | 0 | 0.0000000 | 0 | 0.2764538 |\n",
       "| U.S. Russia envoy cancels trip saying Russian officials won't meet him                                                                        | worldnews       | 1-Dec-17  | True | 0.08427584 | 0 | 0.19684796 | 0.00000000 | 0.00000000 | 0 | ⋯ | 0.0000000 | 0.00000000 | 0.00000000 | 0 | 0 | 0.0000000 | 0 | 0.0000000 | 0 | 0.6286955 |\n",
       "| Attorney General Sessions visits White House, not Trump                                                                                       | politicsNews    | 24-Jul-17 | True | 0.11622534 | 0 | 0.27147426 | 0.00000000 | 0.00000000 | 0 | ⋯ | 0.0000000 | 0.00000000 | 0.00000000 | 0 | 0 | 0.0000000 | 0 | 0.0000000 | 0 | 0.4335190 |\n",
       "| Kremlin: Putin, Trump to meet on sidelines of G20 summit                                                                                      | politicsNews    | 29-Jun-17 | True | 0.08346842 | 0 | 0.09748101 | 0.00000000 | 0.00000000 | 0 | ⋯ | 0.0000000 | 0.00000000 | 0.00000000 | 0 | 0 | 0.0000000 | 0 | 0.0000000 | 0 | 0.6226722 |\n",
       "| WIKILEAKS Posts NEW Document&lt;U+2026&gt;Shows Hillary Reportedly Asked: &lt;U+201D&gt; Can&lt;U+2019&gt;t we just drone this guy [Julian Assange]?&lt;U+201D&gt;    | Government News | 3-Oct-16  | Fake | 0.00000000 | 0 | 0.07924330 | 0.00000000 | 0.10837615 | 0 | ⋯ | 0.0000000 | 0.00000000 | 0.00000000 | 0 | 0 | 0.0000000 | 0 | 0.0000000 | 0 | 0.2530883 |\n",
       "| FEDS ISSUE TERROR ALERT FOR JULY 4TH&lt;U+2026&gt;WAIT, I THOUGHT OBAMA SAID ISIS IS JUST A JV TEAM?!                                               | Government News | 28-Jun-15 | Fake | 0.00000000 | 0 | 0.16097175 | 0.00000000 | 0.00000000 | 0 | ⋯ | 0.0000000 | 0.00000000 | 0.00000000 | 0 | 0 | 0.0000000 | 0 | 0.0000000 | 0 | 0.2570568 |\n",
       "| SELLING OUT AMERICA TO TERRORIST STATES IS HARD WORK: Barry Heads To Martha&lt;U+2019&gt;s Vineyard A Day Ahead Of Schedule                         | politics        | 8-Aug-15  | Fake | 0.14387993 | 0 | 0.00000000 | 0.20448528 | 0.00000000 | 0 | ⋯ | 0.0000000 | 0.00000000 | 0.00000000 | 0 | 0 | 0.0000000 | 0 | 0.0000000 | 0 | 0.3577801 |\n",
       "| Trump tells House leaders to cancel healthcare bill vote                                                                                      | politicsNews    | 24-Mar-17 | True | 0.00000000 | 0 | 0.00000000 | 0.00000000 | 0.00000000 | 0 | ⋯ | 0.0000000 | 0.00000000 | 0.00000000 | 0 | 0 | 0.0000000 | 0 | 0.0000000 | 0 | 0.4516895 |\n",
       "| Pence cancels trip to work on healthcare as House vote looms                                                                                  | politicsNews    | 24-Mar-17 | True | 0.00000000 | 0 | 0.07674535 | 0.00000000 | 0.00000000 | 0 | ⋯ | 0.0000000 | 0.00000000 | 0.00000000 | 0 | 0 | 0.0000000 | 0 | 0.0000000 | 0 | 0.4902206 |\n",
       "| PRESIDENT TRUMP SHOCKS PRESS CORP&lt;U+2026&gt;Makes Unannounced Trip With Ivanka Trump                                                             | politics        | 1-Feb-17  | Fake | 0.20572307 | 0 | 0.00000000 | 0.00000000 | 0.00000000 | 0 | ⋯ | 0.0000000 | 0.00000000 | 0.00000000 | 0 | 0 | 0.0000000 | 0 | 0.0000000 | 0 | 0.2557814 |\n",
       "| STUNNING: First Lady Melania Trump Welcomes Israeli Prime Minister Netanyahu [Video]                                                          | Government News | 15-Feb-17 | Fake | 0.16659085 | 0 | 0.00000000 | 0.00000000 | 0.00000000 | 0 | ⋯ | 0.0000000 | 0.00000000 | 0.00000000 | 0 | 0 | 0.0000000 | 0 | 0.0000000 | 0 | 0.3106908 |\n",
       "| False Flag Florida: FBI Agents &lt;U+2018&gt;Posing As Terrorists&lt;U+2019&gt; in Miami Sting Operation                                                  | US_News         | 3-May-16  | Fake | 0.03717067 | 0 | 0.04341084 | 0.00000000 | 0.00000000 | 0 | ⋯ | 0.1431876 | 0.00000000 | 0.00000000 | 0 | 0 | 0.0000000 | 0 | 0.0000000 | 0 | 0.2772922 |\n",
       "| False Flag Florida: FBI Agents &lt;U+2018&gt;Posing As Terrorists&lt;U+2019&gt; in Miami Sting Operation                                                  | Middle-east     | 3-May-16  | Fake | 0.03717067 | 0 | 0.04341084 | 0.00000000 | 0.00000000 | 0 | ⋯ | 0.1431876 | 0.00000000 | 0.00000000 | 0 | 0 | 0.0000000 | 0 | 0.0000000 | 0 | 0.2772922 |\n",
       "| Thousands of anti-Catalan independence protesters gather in Barcelona                                                                         | worldnews       | 30-Sep-17 | True | 0.00000000 | 0 | 0.00000000 | 0.00000000 | 0.00000000 | 0 | ⋯ | 0.0000000 | 0.00000000 | 0.00000000 | 0 | 0 | 0.0000000 | 0 | 0.0000000 | 0 | 0.4489437 |\n",
       "| House committee postpones hearing on Puerto Rico                                                                                              | politicsNews    | 19-Oct-17 | True | 0.21033247 | 0 | 0.24564286 | 0.00000000 | 0.00000000 | 0 | ⋯ | 0.0000000 | 0.00000000 | 0.00000000 | 0 | 0 | 0.0000000 | 0 | 0.0000000 | 0 | 0.3922686 |\n",
       "| U.S. concerned Iraqi Kurdish referendum will distract from war: State Department                                                              | politicsNews    | 8-Jun-17  | True | 0.06258382 | 0 | 0.21927098 | 0.00000000 | 0.00000000 | 0 | ⋯ | 0.0000000 | 0.00000000 | 0.00000000 | 0 | 0 | 0.0000000 | 0 | 0.0000000 | 0 | 0.4668736 |\n",
       "| WIKILEAKS Posts NEW Document&lt;U+2026&gt;Shows Hillary Reportedly Asked: &lt;U+201D&gt; Can&lt;U+2019&gt;t we just drone this guy [Julian Assange]?&lt;U+201D&gt;    | left-news       | 3-Oct-16  | Fake | 0.00000000 | 0 | 0.07924330 | 0.00000000 | 0.10837615 | 0 | ⋯ | 0.0000000 | 0.00000000 | 0.00000000 | 0 | 0 | 0.0000000 | 0 | 0.0000000 | 0 | 0.2530883 |\n",
       "| DONALD TRUMP TO GIVE Symbolic &lt;U+2018&gt;First 100 Days&lt;U+2019&gt; Speech at Gettysburg Tomorrow                                                    | politics        | 22-Oct-16 | Fake | 0.14300821 | 0 | 0.00000000 | 0.00000000 | 0.00000000 | 0 | ⋯ | 0.0000000 | 0.00000000 | 0.00000000 | 0 | 0 | 0.0000000 | 0 | 0.0000000 | 0 | 0.2667094 |\n",
       "| U.S. 'strongly opposes' Iraqi Kurdish independence vote: State Department                                                                     | worldnews       | 20-Sep-17 | True | 0.10034811 | 0 | 0.23438891 | 0.00000000 | 0.00000000 | 0 | ⋯ | 0.0000000 | 0.00000000 | 0.00000000 | 0 | 0 | 0.0000000 | 0 | 0.0000000 | 0 | 0.7485943 |\n",
       "| FORD&lt;U+2019&gt;S NEW CEO SNUBS President Trump&lt;U+2026&gt;Will Build Focus In China&lt;U+2026&gt;Export To U.S.                                            | politics        | 20-Jun-17 | Fake | 0.03705829 | 0 | 0.30295718 | 0.07900207 | 0.00000000 | 0 | ⋯ | 0.0000000 | 0.00000000 | 0.00000000 | 0 | 0 | 0.0000000 | 0 | 0.0000000 | 0 | 0.2764538 |\n",
       "| Trump to meet with CIA, FBI and DNI chiefs on Friday: spokesman                                                                               | politicsNews    | 4-Jan-17  | True | 0.11335500 | 0 | 0.26476983 | 0.24165387 | 0.00000000 | 0 | ⋯ | 0.0000000 | 0.00000000 | 0.00000000 | 0 | 0 | 0.0000000 | 0 | 0.0000000 | 0 | 0.4228126 |\n",
       "|  Kremlin Threatens Trump: Stop Leaking Like A Colander Or We&lt;U+2019&gt;ll Release Info                                                           | News            | 26-Mar-17 | Fake | 0.13924776 | 0 | 0.00000000 | 0.00000000 | 0.05560287 | 0 | ⋯ | 0.0000000 | 0.00000000 | 0.00000000 | 0 | 0 | 0.0000000 | 0 | 0.0000000 | 0 | 0.2596961 |\n",
       "| 'Nasty woman' and Ken Bone: election's viral stars a hit for Halloween                                                                        | politicsNews    | 27-Oct-16 | True | 0.07966688 | 0 | 0.24811006 | 0.00000000 | 0.04241560 | 0 | ⋯ | 0.0000000 | 0.09207506 | 0.00000000 | 0 | 0 | 0.0000000 | 0 | 0.0000000 | 0 | 0.3962085 |\n",
       "| Energy Secretary Perry cancels Kazakhstan visit due to hurricane                                                                              | politicsNews    | 28-Aug-17 | True | 0.05870862 | 0 | 0.20569370 | 0.00000000 | 0.00000000 | 0 | ⋯ | 0.0000000 | 0.00000000 | 0.00000000 | 0 | 0 | 0.0000000 | 0 | 0.2270758 | 0 | 0.4379648 |\n",
       "| JUST IN: UK LEADER Who Criticized President Trump For Tweeting About ISLAMIC EXTREMISTS Is Victim Of Assassination Plot By ISLAMIC EXTREMISTS | left-news       | 5-Dec-17  | Fake | 0.11276656 | 0 | 0.09877327 | 0.00000000 | 0.04502869 | 0 | ⋯ | 0.1085989 | 0.00000000 | 0.09353608 | 0 | 0 | 0.0000000 | 0 | 0.0000000 | 0 | 0.3154633 |\n",
       "| UK PM May postpones trip to China to avoid timetable clash with Trump: Sky                                                                    | worldnews       | 6-Oct-17  | True | 0.11574944 | 0 | 0.13518133 | 0.00000000 | 0.00000000 | 0 | ⋯ | 0.0000000 | 0.00000000 | 0.00000000 | 0 | 0 | 0.0000000 | 0 | 0.0000000 | 0 | 0.4317438 |\n",
       "| McCain vows to undo U.S. legislation that eased Russian rocket engine ban                                                                     | politicsNews    | 27-Jan-16 | True | 0.00000000 | 0 | 0.06679078 | 0.00000000 | 0.00000000 | 0 | ⋯ | 0.0000000 | 0.00000000 | 0.00000000 | 0 | 0 | 0.0000000 | 0 | 0.0000000 | 0 | 0.4266345 |\n",
       "|  Veterans SHRED Trump For Exploiting Navy SEAL&lt;U+2019&gt;s Death While Press FAWNS All Over Him For It                                           | News            | 1-Mar-17  | Fake | 0.28454033 | 0 | 0.00000000 | 0.00000000 | 0.06492543 | 0 | ⋯ | 0.0000000 | 0.00000000 | 0.00000000 | 0 | 0 | 0.0000000 | 0 | 0.0000000 | 0 | 0.4548564 |\n",
       "| BREAKING! REPUBLICANS PULL VOTE ON BANNING CONFEDERATE FLAG                                                                                   | Government News | 9-Jul-15  | Fake | 0.06164721 | 0 | 0.07199649 | 0.00000000 | 0.00000000 | 0 | ⋯ | 0.0000000 | 0.00000000 | 0.00000000 | 0 | 0 | 0.0000000 | 0 | 0.0000000 | 0 | 0.4598866 |\n",
       "| FBI schedules 11 a.m. news conference on Florida nightclub shooting                                                                           | politicsNews    | 20-Jun-16 | True | 0.11603690 | 0 | 0.20327558 | 0.00000000 | 0.00000000 | 0 | ⋯ | 0.0000000 | 0.00000000 | 0.00000000 | 0 | 0 | 0.0000000 | 0 | 0.0000000 | 0 | 0.4328161 |\n",
       "| VETERANS CAN&lt;U+2019&gt;T GET HEALTH CARE&lt;U+2026&gt;But These MN Somali Muslims Got US Taxpayer Dollars For College&lt;U+2026&gt;Used It For Jihad         | politics        | 22-May-15 | Fake | 0.11856216 | 0 | 0.00000000 | 0.00000000 | 0.00000000 | 0 | ⋯ | 0.0000000 | 0.00000000 | 0.00000000 | 0 | 0 | 0.0000000 | 0 | 0.0000000 | 0 | 0.2653412 |\n",
       "| Former intelligence chief Clapper: Comey was uneasy with Trump dinner - MSNBC                                                                 | politicsNews    | 12-May-17 | True | 0.10779749 | 0 | 0.25178885 | 0.00000000 | 0.00000000 | 0 | ⋯ | 0.0000000 | 0.00000000 | 0.00000000 | 0 | 0 | 0.0000000 | 0 | 0.0000000 | 0 | 0.4020832 |\n",
       "| 5-Star Mooch and Free-Loading Granny Drop In For Lunch In New York On The Taxpayer&lt;U+2019&gt;s Dime&lt;U+2026&gt;                                      | politics        | 20-Apr-15 | Fake | 0.48323780 | 0 | 0.00000000 | 0.00000000 | 0.00000000 | 0 | ⋯ | 0.0000000 | 0.00000000 | 0.00000000 | 0 | 0 | 0.0000000 | 0 | 0.0000000 | 0 | 0.2574958 |\n",
       "| White House cancels Trump event at Labor Dept after gunman shoots lawmaker                                                                    | politicsNews    | 14-Jun-17 | True | 0.11294814 | 0 | 0.13190976 | 0.00000000 | 0.00000000 | 0 | ⋯ | 0.0000000 | 0.00000000 | 0.00000000 | 0 | 0 | 0.0000000 | 0 | 0.0000000 | 0 | 0.4212951 |\n",
       "| VETERANS CAN&lt;U+2019&gt;T GET HEALTH CARE&lt;U+2026&gt;But These MN Somali Muslims Got US Taxpayer Dollars For College&lt;U+2026&gt;Used It For Jihad         | Government News | 22-May-15 | Fake | 0.11856216 | 0 | 0.00000000 | 0.00000000 | 0.00000000 | 0 | ⋯ | 0.0000000 | 0.00000000 | 0.00000000 | 0 | 0 | 0.0000000 | 0 | 0.0000000 | 0 | 0.2653412 |\n",
       "| VETERANS CAN&lt;U+2019&gt;T GET HEALTH CARE&lt;U+2026&gt;But These MN Somali Muslims Got US Taxpayer Dollars For College&lt;U+2026&gt;Used It For Jihad         | left-news       | 22-May-15 | Fake | 0.11856216 | 0 | 0.00000000 | 0.00000000 | 0.00000000 | 0 | ⋯ | 0.0000000 | 0.00000000 | 0.00000000 | 0 | 0 | 0.0000000 | 0 | 0.0000000 | 0 | 0.2653412 |\n",
       "| Spain's Rajoy calls on Catalonia leaders to cancel referendum                                                                                 | worldnews       | 20-Sep-17 | True | 0.12534683 | 0 | 0.14638993 | 0.00000000 | 0.20020843 | 0 | ⋯ | 0.0000000 | 0.00000000 | 0.00000000 | 0 | 0 | 0.0000000 | 0 | 0.0000000 | 0 | 0.4675420 |\n",
       "| Top two Republicans in Congress challenge Democrats to attend Trump meeting                                                                   | politicsNews    | 28-Nov-17 | True | 0.00000000 | 0 | 0.27416298 | 0.12511347 | 0.00000000 | 0 | ⋯ | 0.0000000 | 0.00000000 | 0.00000000 | 0 | 0 | 0.0000000 | 0 | 0.0000000 | 0 | 0.4378126 |\n",
       "| WATCH TRUMP SUPPORTERS CRASH Pro-Sanctuary City Press Conference Where Radicals Call for Open Borders [Video]                                 | left-news       | 6-Aug-17  | Fake | 0.22444641 | 0 | 0.17475083 | 0.00000000 | 0.05974897 | 0 | ⋯ | 0.0000000 | 0.00000000 | 0.00000000 | 0 | 0 | 0.1364232 | 0 | 0.0000000 | 0 | 0.2790607 |\n",
       "\n"
      ],
      "text/plain": [
       "   title                                                                                                                                        \n",
       "1  Kurdish leaders studying western delegation plan to delay referendum                                                                         \n",
       "2  FORD<U+2019>S NEW CEO SNUBS President Trump<U+2026>Will Build Focus In China<U+2026>Export To U.S.                                           \n",
       "3  U.S. Russia envoy cancels trip saying Russian officials won't meet him                                                                       \n",
       "4  Attorney General Sessions visits White House, not Trump                                                                                      \n",
       "5  Kremlin: Putin, Trump to meet on sidelines of G20 summit                                                                                     \n",
       "6  WIKILEAKS Posts NEW Document<U+2026>Shows Hillary Reportedly Asked: <U+201D> Can<U+2019>t we just drone this guy [Julian Assange]?<U+201D>   \n",
       "7  FEDS ISSUE TERROR ALERT FOR JULY 4TH<U+2026>WAIT, I THOUGHT OBAMA SAID ISIS IS JUST A JV TEAM?!                                              \n",
       "8  SELLING OUT AMERICA TO TERRORIST STATES IS HARD WORK: Barry Heads To Martha<U+2019>s Vineyard A Day Ahead Of Schedule                        \n",
       "9  Trump tells House leaders to cancel healthcare bill vote                                                                                     \n",
       "10 Pence cancels trip to work on healthcare as House vote looms                                                                                 \n",
       "11 PRESIDENT TRUMP SHOCKS PRESS CORP<U+2026>Makes Unannounced Trip With Ivanka Trump                                                            \n",
       "12 STUNNING: First Lady Melania Trump Welcomes Israeli Prime Minister Netanyahu [Video]                                                         \n",
       "13 False Flag Florida: FBI Agents <U+2018>Posing As Terrorists<U+2019> in Miami Sting Operation                                                 \n",
       "14 False Flag Florida: FBI Agents <U+2018>Posing As Terrorists<U+2019> in Miami Sting Operation                                                 \n",
       "15 Thousands of anti-Catalan independence protesters gather in Barcelona                                                                        \n",
       "16 House committee postpones hearing on Puerto Rico                                                                                             \n",
       "17 U.S. concerned Iraqi Kurdish referendum will distract from war: State Department                                                             \n",
       "18 WIKILEAKS Posts NEW Document<U+2026>Shows Hillary Reportedly Asked: <U+201D> Can<U+2019>t we just drone this guy [Julian Assange]?<U+201D>   \n",
       "19 DONALD TRUMP TO GIVE Symbolic <U+2018>First 100 Days<U+2019> Speech at Gettysburg Tomorrow                                                   \n",
       "20 U.S. 'strongly opposes' Iraqi Kurdish independence vote: State Department                                                                    \n",
       "21 FORD<U+2019>S NEW CEO SNUBS President Trump<U+2026>Will Build Focus In China<U+2026>Export To U.S.                                           \n",
       "22 Trump to meet with CIA, FBI and DNI chiefs on Friday: spokesman                                                                              \n",
       "23  Kremlin Threatens Trump: Stop Leaking Like A Colander Or We<U+2019>ll Release Info                                                          \n",
       "24 'Nasty woman' and Ken Bone: election's viral stars a hit for Halloween                                                                       \n",
       "25 Energy Secretary Perry cancels Kazakhstan visit due to hurricane                                                                             \n",
       "26 JUST IN: UK LEADER Who Criticized President Trump For Tweeting About ISLAMIC EXTREMISTS Is Victim Of Assassination Plot By ISLAMIC EXTREMISTS\n",
       "27 UK PM May postpones trip to China to avoid timetable clash with Trump: Sky                                                                   \n",
       "28 McCain vows to undo U.S. legislation that eased Russian rocket engine ban                                                                    \n",
       "29  Veterans SHRED Trump For Exploiting Navy SEAL<U+2019>s Death While Press FAWNS All Over Him For It                                          \n",
       "30 BREAKING! REPUBLICANS PULL VOTE ON BANNING CONFEDERATE FLAG                                                                                  \n",
       "31 FBI schedules 11 a.m. news conference on Florida nightclub shooting                                                                          \n",
       "32 VETERANS CAN<U+2019>T GET HEALTH CARE<U+2026>But These MN Somali Muslims Got US Taxpayer Dollars For College<U+2026>Used It For Jihad        \n",
       "33 Former intelligence chief Clapper: Comey was uneasy with Trump dinner - MSNBC                                                                \n",
       "34 5-Star Mooch and Free-Loading Granny Drop In For Lunch In New York On The Taxpayer<U+2019>s Dime<U+2026>                                     \n",
       "35 White House cancels Trump event at Labor Dept after gunman shoots lawmaker                                                                   \n",
       "36 VETERANS CAN<U+2019>T GET HEALTH CARE<U+2026>But These MN Somali Muslims Got US Taxpayer Dollars For College<U+2026>Used It For Jihad        \n",
       "37 VETERANS CAN<U+2019>T GET HEALTH CARE<U+2026>But These MN Somali Muslims Got US Taxpayer Dollars For College<U+2026>Used It For Jihad        \n",
       "38 Spain's Rajoy calls on Catalonia leaders to cancel referendum                                                                                \n",
       "39 Top two Republicans in Congress challenge Democrats to attend Trump meeting                                                                  \n",
       "40 WATCH TRUMP SUPPORTERS CRASH Pro-Sanctuary City Press Conference Where Radicals Call for Open Borders [Video]                                \n",
       "   subject         date      label s          trump said       president \n",
       "1  worldnews       14-Sep-17 True  0.22826366 0     0.00000000 0.12165498\n",
       "2  left-news       20-Jun-17 Fake  0.03705829 0     0.30295718 0.07900207\n",
       "3  worldnews       1-Dec-17  True  0.08427584 0     0.19684796 0.00000000\n",
       "4  politicsNews    24-Jul-17 True  0.11622534 0     0.27147426 0.00000000\n",
       "5  politicsNews    29-Jun-17 True  0.08346842 0     0.09748101 0.00000000\n",
       "6  Government News 3-Oct-16  Fake  0.00000000 0     0.07924330 0.00000000\n",
       "7  Government News 28-Jun-15 Fake  0.00000000 0     0.16097175 0.00000000\n",
       "8  politics        8-Aug-15  Fake  0.14387993 0     0.00000000 0.20448528\n",
       "9  politicsNews    24-Mar-17 True  0.00000000 0     0.00000000 0.00000000\n",
       "10 politicsNews    24-Mar-17 True  0.00000000 0     0.07674535 0.00000000\n",
       "11 politics        1-Feb-17  Fake  0.20572307 0     0.00000000 0.00000000\n",
       "12 Government News 15-Feb-17 Fake  0.16659085 0     0.00000000 0.00000000\n",
       "13 US_News         3-May-16  Fake  0.03717067 0     0.04341084 0.00000000\n",
       "14 Middle-east     3-May-16  Fake  0.03717067 0     0.04341084 0.00000000\n",
       "15 worldnews       30-Sep-17 True  0.00000000 0     0.00000000 0.00000000\n",
       "16 politicsNews    19-Oct-17 True  0.21033247 0     0.24564286 0.00000000\n",
       "17 politicsNews    8-Jun-17  True  0.06258382 0     0.21927098 0.00000000\n",
       "18 left-news       3-Oct-16  Fake  0.00000000 0     0.07924330 0.00000000\n",
       "19 politics        22-Oct-16 Fake  0.14300821 0     0.00000000 0.00000000\n",
       "20 worldnews       20-Sep-17 True  0.10034811 0     0.23438891 0.00000000\n",
       "21 politics        20-Jun-17 Fake  0.03705829 0     0.30295718 0.07900207\n",
       "22 politicsNews    4-Jan-17  True  0.11335500 0     0.26476983 0.24165387\n",
       "23 News            26-Mar-17 Fake  0.13924776 0     0.00000000 0.00000000\n",
       "24 politicsNews    27-Oct-16 True  0.07966688 0     0.24811006 0.00000000\n",
       "25 politicsNews    28-Aug-17 True  0.05870862 0     0.20569370 0.00000000\n",
       "26 left-news       5-Dec-17  Fake  0.11276656 0     0.09877327 0.00000000\n",
       "27 worldnews       6-Oct-17  True  0.11574944 0     0.13518133 0.00000000\n",
       "28 politicsNews    27-Jan-16 True  0.00000000 0     0.06679078 0.00000000\n",
       "29 News            1-Mar-17  Fake  0.28454033 0     0.00000000 0.00000000\n",
       "30 Government News 9-Jul-15  Fake  0.06164721 0     0.07199649 0.00000000\n",
       "31 politicsNews    20-Jun-16 True  0.11603690 0     0.20327558 0.00000000\n",
       "32 politics        22-May-15 Fake  0.11856216 0     0.00000000 0.00000000\n",
       "33 politicsNews    12-May-17 True  0.10779749 0     0.25178885 0.00000000\n",
       "34 politics        20-Apr-15 Fake  0.48323780 0     0.00000000 0.00000000\n",
       "35 politicsNews    14-Jun-17 True  0.11294814 0     0.13190976 0.00000000\n",
       "36 Government News 22-May-15 Fake  0.11856216 0     0.00000000 0.00000000\n",
       "37 left-news       22-May-15 Fake  0.11856216 0     0.00000000 0.00000000\n",
       "38 worldnews       20-Sep-17 True  0.12534683 0     0.14638993 0.00000000\n",
       "39 politicsNews    28-Nov-17 True  0.00000000 0     0.27416298 0.12511347\n",
       "40 left-news       6-Aug-17  Fake  0.22444641 0     0.17475083 0.00000000\n",
       "   t          u <U+22EF>        services  cut        latest     questions received\n",
       "1  0.00000000 0 <U+22EF> 0.0000000 0.00000000 0.00000000 0         0       \n",
       "2  0.00000000 0 <U+22EF> 0.0000000 0.00000000 0.00000000 0         0       \n",
       "3  0.00000000 0 <U+22EF> 0.0000000 0.00000000 0.00000000 0         0       \n",
       "4  0.00000000 0 <U+22EF> 0.0000000 0.00000000 0.00000000 0         0       \n",
       "5  0.00000000 0 <U+22EF> 0.0000000 0.00000000 0.00000000 0         0       \n",
       "6  0.10837615 0 <U+22EF> 0.0000000 0.00000000 0.00000000 0         0       \n",
       "7  0.00000000 0 <U+22EF> 0.0000000 0.00000000 0.00000000 0         0       \n",
       "8  0.00000000 0 <U+22EF> 0.0000000 0.00000000 0.00000000 0         0       \n",
       "9  0.00000000 0 <U+22EF> 0.0000000 0.00000000 0.00000000 0         0       \n",
       "10 0.00000000 0 <U+22EF> 0.0000000 0.00000000 0.00000000 0         0       \n",
       "11 0.00000000 0 <U+22EF> 0.0000000 0.00000000 0.00000000 0         0       \n",
       "12 0.00000000 0 <U+22EF> 0.0000000 0.00000000 0.00000000 0         0       \n",
       "13 0.00000000 0 <U+22EF> 0.1431876 0.00000000 0.00000000 0         0       \n",
       "14 0.00000000 0 <U+22EF> 0.1431876 0.00000000 0.00000000 0         0       \n",
       "15 0.00000000 0 <U+22EF> 0.0000000 0.00000000 0.00000000 0         0       \n",
       "16 0.00000000 0 <U+22EF> 0.0000000 0.00000000 0.00000000 0         0       \n",
       "17 0.00000000 0 <U+22EF> 0.0000000 0.00000000 0.00000000 0         0       \n",
       "18 0.10837615 0 <U+22EF> 0.0000000 0.00000000 0.00000000 0         0       \n",
       "19 0.00000000 0 <U+22EF> 0.0000000 0.00000000 0.00000000 0         0       \n",
       "20 0.00000000 0 <U+22EF> 0.0000000 0.00000000 0.00000000 0         0       \n",
       "21 0.00000000 0 <U+22EF> 0.0000000 0.00000000 0.00000000 0         0       \n",
       "22 0.00000000 0 <U+22EF> 0.0000000 0.00000000 0.00000000 0         0       \n",
       "23 0.05560287 0 <U+22EF> 0.0000000 0.00000000 0.00000000 0         0       \n",
       "24 0.04241560 0 <U+22EF> 0.0000000 0.09207506 0.00000000 0         0       \n",
       "25 0.00000000 0 <U+22EF> 0.0000000 0.00000000 0.00000000 0         0       \n",
       "26 0.04502869 0 <U+22EF> 0.1085989 0.00000000 0.09353608 0         0       \n",
       "27 0.00000000 0 <U+22EF> 0.0000000 0.00000000 0.00000000 0         0       \n",
       "28 0.00000000 0 <U+22EF> 0.0000000 0.00000000 0.00000000 0         0       \n",
       "29 0.06492543 0 <U+22EF> 0.0000000 0.00000000 0.00000000 0         0       \n",
       "30 0.00000000 0 <U+22EF> 0.0000000 0.00000000 0.00000000 0         0       \n",
       "31 0.00000000 0 <U+22EF> 0.0000000 0.00000000 0.00000000 0         0       \n",
       "32 0.00000000 0 <U+22EF> 0.0000000 0.00000000 0.00000000 0         0       \n",
       "33 0.00000000 0 <U+22EF> 0.0000000 0.00000000 0.00000000 0         0       \n",
       "34 0.00000000 0 <U+22EF> 0.0000000 0.00000000 0.00000000 0         0       \n",
       "35 0.00000000 0 <U+22EF> 0.0000000 0.00000000 0.00000000 0         0       \n",
       "36 0.00000000 0 <U+22EF> 0.0000000 0.00000000 0.00000000 0         0       \n",
       "37 0.00000000 0 <U+22EF> 0.0000000 0.00000000 0.00000000 0         0       \n",
       "38 0.20020843 0 <U+22EF> 0.0000000 0.00000000 0.00000000 0         0       \n",
       "39 0.00000000 0 <U+22EF> 0.0000000 0.00000000 0.00000000 0         0       \n",
       "40 0.05974897 0 <U+22EF> 0.0000000 0.00000000 0.00000000 0         0       \n",
       "   rally     peace oil       access planned  \n",
       "1  0.2081152 0     0.0000000 0      0.4257102\n",
       "2  0.0000000 0     0.0000000 0      0.2764538\n",
       "3  0.0000000 0     0.0000000 0      0.6286955\n",
       "4  0.0000000 0     0.0000000 0      0.4335190\n",
       "5  0.0000000 0     0.0000000 0      0.6226722\n",
       "6  0.0000000 0     0.0000000 0      0.2530883\n",
       "7  0.0000000 0     0.0000000 0      0.2570568\n",
       "8  0.0000000 0     0.0000000 0      0.3577801\n",
       "9  0.0000000 0     0.0000000 0      0.4516895\n",
       "10 0.0000000 0     0.0000000 0      0.4902206\n",
       "11 0.0000000 0     0.0000000 0      0.2557814\n",
       "12 0.0000000 0     0.0000000 0      0.3106908\n",
       "13 0.0000000 0     0.0000000 0      0.2772922\n",
       "14 0.0000000 0     0.0000000 0      0.2772922\n",
       "15 0.0000000 0     0.0000000 0      0.4489437\n",
       "16 0.0000000 0     0.0000000 0      0.3922686\n",
       "17 0.0000000 0     0.0000000 0      0.4668736\n",
       "18 0.0000000 0     0.0000000 0      0.2530883\n",
       "19 0.0000000 0     0.0000000 0      0.2667094\n",
       "20 0.0000000 0     0.0000000 0      0.7485943\n",
       "21 0.0000000 0     0.0000000 0      0.2764538\n",
       "22 0.0000000 0     0.0000000 0      0.4228126\n",
       "23 0.0000000 0     0.0000000 0      0.2596961\n",
       "24 0.0000000 0     0.0000000 0      0.3962085\n",
       "25 0.0000000 0     0.2270758 0      0.4379648\n",
       "26 0.0000000 0     0.0000000 0      0.3154633\n",
       "27 0.0000000 0     0.0000000 0      0.4317438\n",
       "28 0.0000000 0     0.0000000 0      0.4266345\n",
       "29 0.0000000 0     0.0000000 0      0.4548564\n",
       "30 0.0000000 0     0.0000000 0      0.4598866\n",
       "31 0.0000000 0     0.0000000 0      0.4328161\n",
       "32 0.0000000 0     0.0000000 0      0.2653412\n",
       "33 0.0000000 0     0.0000000 0      0.4020832\n",
       "34 0.0000000 0     0.0000000 0      0.2574958\n",
       "35 0.0000000 0     0.0000000 0      0.4212951\n",
       "36 0.0000000 0     0.0000000 0      0.2653412\n",
       "37 0.0000000 0     0.0000000 0      0.2653412\n",
       "38 0.0000000 0     0.0000000 0      0.4675420\n",
       "39 0.0000000 0     0.0000000 0      0.4378126\n",
       "40 0.1364232 0     0.0000000 0      0.2790607"
      ]
     },
     "metadata": {},
     "output_type": "display_data"
    }
   ],
   "source": [
    "train %>% group_by(label) %>% \n",
    "  "
   ]
  },
  {
   "cell_type": "code",
   "execution_count": 7,
   "id": "99e20951",
   "metadata": {},
   "outputs": [],
   "source": [
    "fake = read.csv(\"Original\\ Data/fake.csv\")\n",
    "true = read.csv(\"Original\\ Data/true.csv\")"
   ]
  },
  {
   "cell_type": "code",
   "execution_count": 17,
   "id": "56c5e741",
   "metadata": {
    "scrolled": true
   },
   "outputs": [
    {
     "data": {
      "text/html": [
       "<table class=\"dataframe\">\n",
       "<caption>A rowwise_df: 1 × 2</caption>\n",
       "<thead>\n",
       "\t<tr><th scope=col>title</th><th scope=col>text</th></tr>\n",
       "\t<tr><th scope=col>&lt;chr&gt;</th><th scope=col>&lt;chr&gt;</th></tr>\n",
       "</thead>\n",
       "<tbody>\n",
       "\t<tr><td> Donald Trump Sends Out Embarrassing New Yearâ€™s Eve Message; This is Disturbing</td><td>Donald Trump just couldn t wish all Americans a Happy New Year and leave it at that. Instead, he had to give a shout out to his enemies, haters and  the very dishonest fake news media.  The former reality show star had just one job to do and he couldn t do it. As our Country rapidly grows stronger and smarter, I want to wish all of my friends, supporters, enemies, haters, and even the very dishonest Fake News Media, a Happy and Healthy New Year,  President Angry Pants tweeted.  2018 will be a great year for America! As our Country rapidly grows stronger and smarter, I want to wish all of my friends, supporters, enemies, haters, and even the very dishonest Fake News Media, a Happy and Healthy New Year. 2018 will be a great year for America!  Donald J. Trump (@realDonaldTrump) December 31, 2017Trump s tweet went down about as welll as you d expect.What kind of president sends a New Year s greeting like this despicable, petty, infantile gibberish? Only Trump! His lack of decency won t even allow him to rise above the gutter long enough to wish the American citizens a happy new year!  Bishop Talbert Swan (@TalbertSwan) December 31, 2017no one likes you  Calvin (@calvinstowell) December 31, 2017Your impeachment would make 2018 a great year for America, but I ll also accept regaining control of Congress.  Miranda Yaver (@mirandayaver) December 31, 2017Do you hear yourself talk? When you have to include that many people that hate you you have to wonder? Why do the they all hate me?  Alan Sandoval (@AlanSandoval13) December 31, 2017Who uses the word Haters in a New Years wish??  Marlene (@marlene399) December 31, 2017You can t just say happy new year?  Koren pollitt (@Korencarpenter) December 31, 2017Here s Trump s New Year s Eve tweet from 2016.Happy New Year to all, including to my many enemies and those who have fought me and lost so badly they just don t know what to do. Love!  Donald J. Trump (@realDonaldTrump) December 31, 2016This is nothing new for Trump. He s been doing this for years.Trump has directed messages to his  enemies  and  haters  for New Year s, Easter, Thanksgiving, and the anniversary of 9/11. pic.twitter.com/4FPAe2KypA  Daniel Dale (@ddale8) December 31, 2017Trump s holiday tweets are clearly not presidential.How long did he work at Hallmark before becoming President?  Steven Goodine (@SGoodine) December 31, 2017He s always been like this . . . the only difference is that in the last few years, his filter has been breaking down.  Roy Schulze (@thbthttt) December 31, 2017Who, apart from a teenager uses the term haters?  Wendy (@WendyWhistles) December 31, 2017he s a fucking 5 year old  Who Knows (@rainyday80) December 31, 2017So, to all the people who voted for this a hole thinking he would change once he got into power, you were wrong! 70-year-old men don t change and now he s a year older.Photo by Andrew Burton/Getty Images.</td></tr>\n",
       "</tbody>\n",
       "</table>\n"
      ],
      "text/latex": [
       "A rowwise\\_df: 1 × 2\n",
       "\\begin{tabular}{ll}\n",
       " title & text\\\\\n",
       " <chr> & <chr>\\\\\n",
       "\\hline\n",
       "\t  Donald Trump Sends Out Embarrassing New Yearâ€™s Eve Message; This is Disturbing & Donald Trump just couldn t wish all Americans a Happy New Year and leave it at that. Instead, he had to give a shout out to his enemies, haters and  the very dishonest fake news media.  The former reality show star had just one job to do and he couldn t do it. As our Country rapidly grows stronger and smarter, I want to wish all of my friends, supporters, enemies, haters, and even the very dishonest Fake News Media, a Happy and Healthy New Year,  President Angry Pants tweeted.  2018 will be a great year for America! As our Country rapidly grows stronger and smarter, I want to wish all of my friends, supporters, enemies, haters, and even the very dishonest Fake News Media, a Happy and Healthy New Year. 2018 will be a great year for America!  Donald J. Trump (@realDonaldTrump) December 31, 2017Trump s tweet went down about as welll as you d expect.What kind of president sends a New Year s greeting like this despicable, petty, infantile gibberish? Only Trump! His lack of decency won t even allow him to rise above the gutter long enough to wish the American citizens a happy new year!  Bishop Talbert Swan (@TalbertSwan) December 31, 2017no one likes you  Calvin (@calvinstowell) December 31, 2017Your impeachment would make 2018 a great year for America, but I ll also accept regaining control of Congress.  Miranda Yaver (@mirandayaver) December 31, 2017Do you hear yourself talk? When you have to include that many people that hate you you have to wonder? Why do the they all hate me?  Alan Sandoval (@AlanSandoval13) December 31, 2017Who uses the word Haters in a New Years wish??  Marlene (@marlene399) December 31, 2017You can t just say happy new year?  Koren pollitt (@Korencarpenter) December 31, 2017Here s Trump s New Year s Eve tweet from 2016.Happy New Year to all, including to my many enemies and those who have fought me and lost so badly they just don t know what to do. Love!  Donald J. Trump (@realDonaldTrump) December 31, 2016This is nothing new for Trump. He s been doing this for years.Trump has directed messages to his  enemies  and  haters  for New Year s, Easter, Thanksgiving, and the anniversary of 9/11. pic.twitter.com/4FPAe2KypA  Daniel Dale (@ddale8) December 31, 2017Trump s holiday tweets are clearly not presidential.How long did he work at Hallmark before becoming President?  Steven Goodine (@SGoodine) December 31, 2017He s always been like this . . . the only difference is that in the last few years, his filter has been breaking down.  Roy Schulze (@thbthttt) December 31, 2017Who, apart from a teenager uses the term haters?  Wendy (@WendyWhistles) December 31, 2017he s a fucking 5 year old  Who Knows (@rainyday80) December 31, 2017So, to all the people who voted for this a hole thinking he would change once he got into power, you were wrong! 70-year-old men don t change and now he s a year older.Photo by Andrew Burton/Getty Images.\\\\\n",
       "\\end{tabular}\n"
      ],
      "text/markdown": [
       "\n",
       "A rowwise_df: 1 × 2\n",
       "\n",
       "| title &lt;chr&gt; | text &lt;chr&gt; |\n",
       "|---|---|\n",
       "|  Donald Trump Sends Out Embarrassing New Yearâ€™s Eve Message; This is Disturbing | Donald Trump just couldn t wish all Americans a Happy New Year and leave it at that. Instead, he had to give a shout out to his enemies, haters and  the very dishonest fake news media.  The former reality show star had just one job to do and he couldn t do it. As our Country rapidly grows stronger and smarter, I want to wish all of my friends, supporters, enemies, haters, and even the very dishonest Fake News Media, a Happy and Healthy New Year,  President Angry Pants tweeted.  2018 will be a great year for America! As our Country rapidly grows stronger and smarter, I want to wish all of my friends, supporters, enemies, haters, and even the very dishonest Fake News Media, a Happy and Healthy New Year. 2018 will be a great year for America!  Donald J. Trump (@realDonaldTrump) December 31, 2017Trump s tweet went down about as welll as you d expect.What kind of president sends a New Year s greeting like this despicable, petty, infantile gibberish? Only Trump! His lack of decency won t even allow him to rise above the gutter long enough to wish the American citizens a happy new year!  Bishop Talbert Swan (@TalbertSwan) December 31, 2017no one likes you  Calvin (@calvinstowell) December 31, 2017Your impeachment would make 2018 a great year for America, but I ll also accept regaining control of Congress.  Miranda Yaver (@mirandayaver) December 31, 2017Do you hear yourself talk? When you have to include that many people that hate you you have to wonder? Why do the they all hate me?  Alan Sandoval (@AlanSandoval13) December 31, 2017Who uses the word Haters in a New Years wish??  Marlene (@marlene399) December 31, 2017You can t just say happy new year?  Koren pollitt (@Korencarpenter) December 31, 2017Here s Trump s New Year s Eve tweet from 2016.Happy New Year to all, including to my many enemies and those who have fought me and lost so badly they just don t know what to do. Love!  Donald J. Trump (@realDonaldTrump) December 31, 2016This is nothing new for Trump. He s been doing this for years.Trump has directed messages to his  enemies  and  haters  for New Year s, Easter, Thanksgiving, and the anniversary of 9/11. pic.twitter.com/4FPAe2KypA  Daniel Dale (@ddale8) December 31, 2017Trump s holiday tweets are clearly not presidential.How long did he work at Hallmark before becoming President?  Steven Goodine (@SGoodine) December 31, 2017He s always been like this . . . the only difference is that in the last few years, his filter has been breaking down.  Roy Schulze (@thbthttt) December 31, 2017Who, apart from a teenager uses the term haters?  Wendy (@WendyWhistles) December 31, 2017he s a fucking 5 year old  Who Knows (@rainyday80) December 31, 2017So, to all the people who voted for this a hole thinking he would change once he got into power, you were wrong! 70-year-old men don t change and now he s a year older.Photo by Andrew Burton/Getty Images. |\n",
       "\n"
      ],
      "text/plain": [
       "  title                                                                            \n",
       "1  Donald Trump Sends Out Embarrassing New Yearâ\\200\\231s Eve Message; This is Disturbing\n",
       "  text                                                                                                                                                                                                                                                                                                                                                                                                                                                                                                                                                                                                                                                                                                                                                                                                                                                                                                                                                                                                                                                                                                                                                                                                                                                                                                                                                                                                                                                                                                                                                                                                                                                                                                                                                                                                                                                                                                                                                                                                                                                                                                                                                                                                                                                                                                                                                                                                                                                                                                                                                                                                                                                                                                                                                                                                                                                                                                                                                                                                         \n",
       "1 Donald Trump just couldn t wish all Americans a Happy New Year and leave it at that. Instead, he had to give a shout out to his enemies, haters and  the very dishonest fake news media.  The former reality show star had just one job to do and he couldn t do it. As our Country rapidly grows stronger and smarter, I want to wish all of my friends, supporters, enemies, haters, and even the very dishonest Fake News Media, a Happy and Healthy New Year,  President Angry Pants tweeted.  2018 will be a great year for America! As our Country rapidly grows stronger and smarter, I want to wish all of my friends, supporters, enemies, haters, and even the very dishonest Fake News Media, a Happy and Healthy New Year. 2018 will be a great year for America!  Donald J. Trump (@realDonaldTrump) December 31, 2017Trump s tweet went down about as welll as you d expect.What kind of president sends a New Year s greeting like this despicable, petty, infantile gibberish? Only Trump! His lack of decency won t even allow him to rise above the gutter long enough to wish the American citizens a happy new year!  Bishop Talbert Swan (@TalbertSwan) December 31, 2017no one likes you  Calvin (@calvinstowell) December 31, 2017Your impeachment would make 2018 a great year for America, but I ll also accept regaining control of Congress.  Miranda Yaver (@mirandayaver) December 31, 2017Do you hear yourself talk? When you have to include that many people that hate you you have to wonder? Why do the they all hate me?  Alan Sandoval (@AlanSandoval13) December 31, 2017Who uses the word Haters in a New Years wish??  Marlene (@marlene399) December 31, 2017You can t just say happy new year?  Koren pollitt (@Korencarpenter) December 31, 2017Here s Trump s New Year s Eve tweet from 2016.Happy New Year to all, including to my many enemies and those who have fought me and lost so badly they just don t know what to do. Love!  Donald J. Trump (@realDonaldTrump) December 31, 2016This is nothing new for Trump. He s been doing this for years.Trump has directed messages to his  enemies  and  haters  for New Year s, Easter, Thanksgiving, and the anniversary of 9/11. pic.twitter.com/4FPAe2KypA  Daniel Dale (@ddale8) December 31, 2017Trump s holiday tweets are clearly not presidential.How long did he work at Hallmark before becoming President?  Steven Goodine (@SGoodine) December 31, 2017He s always been like this . . . the only difference is that in the last few years, his filter has been breaking down.  Roy Schulze (@thbthttt) December 31, 2017Who, apart from a teenager uses the term haters?  Wendy (@WendyWhistles) December 31, 2017he s a fucking 5 year old  Who Knows (@rainyday80) December 31, 2017So, to all the people who voted for this a hole thinking he would change once he got into power, you were wrong! 70-year-old men don t change and now he s a year older.Photo by Andrew Burton/Getty Images."
      ]
     },
     "metadata": {},
     "output_type": "display_data"
    }
   ],
   "source": [
    "fake = fake %>% select(title, text)\n",
    "fake %>% head(1)\n",
    "\n",
    "true = true %>% select(title, text)"
   ]
  },
  {
   "cell_type": "code",
   "execution_count": 18,
   "id": "ff11356d",
   "metadata": {},
   "outputs": [],
   "source": [
    "fake$label = \"Fake\"\n",
    "true$label = \"True\"\n",
    "df = rbind(fake, true)"
   ]
  },
  {
   "cell_type": "code",
   "execution_count": 33,
   "id": "7c12eada",
   "metadata": {},
   "outputs": [],
   "source": [
    "df = df %>% rowwise %>%  mutate(wc = length(strsplit(text, \" \")[[1]]))"
   ]
  },
  {
   "cell_type": "code",
   "execution_count": 38,
   "id": "10a78eb3",
   "metadata": {},
   "outputs": [
    {
     "data": {
      "image/png": "[encoded data removed]",
      "text/plain": [
       "plot without title"
      ]
     },
     "metadata": {
      "image/png": {
       "height": 420,
       "width": 420
      }
     },
     "output_type": "display_data"
    }
   ],
   "source": [
    "ggplot(df, aes(x = wc, fill = label)) +\n",
    "    geom_histogram(alpha = 0.5, bins = 15, position = \"dodge\") + xlab(\"Article Word Count\") + ylab(\"Frequency\") +\n",
    "    theme(plot.title = element_text(size = 12, face = \"bold\"),\n",
    "    legend.title= element_text(size=20), \n",
    "    legend.text= element_text(size=20),\n",
    "    axis.title = element_text(size=20))"
   ]
  },
  {
   "cell_type": "code",
   "execution_count": 19,
   "id": "4c522f2b",
   "metadata": {},
   "outputs": [],
   "source": [
    "library(stringr)\n",
    "link = r\"(https?:\\/\\/(?:www\\.|(?!www))[a-zA-Z0-9][a-zA-Z0-9-]+[a-zA-Z0-9]\\.[^\\s]{2,}|www\\.[a-zA-Z0-9][a-zA-Z0-9-]+[a-zA-Z0-9]\\.[^\\s]{2,}|https?:\\/\\/(?:www\\.|(?!www))[a-zA-Z0-9]+\\.[^\\s]{2,}|www\\.[a-zA-Z0-9]+\\.[^\\s]{2,})\"\n",
    "df = df %>% rowwise %>% mutate(links = str_count(text, link))"
   ]
  },
  {
   "cell_type": "code",
   "execution_count": 28,
   "id": "933d30d6",
   "metadata": {},
   "outputs": [
    {
     "data": {
      "text/html": [
       "<table class=\"dataframe\">\n",
       "<caption>A tibble: 2 × 2</caption>\n",
       "<thead>\n",
       "\t<tr><th scope=col>label</th><th scope=col>n</th></tr>\n",
       "\t<tr><th scope=col>&lt;chr&gt;</th><th scope=col>&lt;int&gt;</th></tr>\n",
       "</thead>\n",
       "<tbody>\n",
       "\t<tr><td>Fake</td><td>23523</td></tr>\n",
       "\t<tr><td>True</td><td>21417</td></tr>\n",
       "</tbody>\n",
       "</table>\n"
      ],
      "text/latex": [
       "A tibble: 2 × 2\n",
       "\\begin{tabular}{ll}\n",
       " label & n\\\\\n",
       " <chr> & <int>\\\\\n",
       "\\hline\n",
       "\t Fake & 23523\\\\\n",
       "\t True & 21417\\\\\n",
       "\\end{tabular}\n"
      ],
      "text/markdown": [
       "\n",
       "A tibble: 2 × 2\n",
       "\n",
       "| label &lt;chr&gt; | n &lt;int&gt; |\n",
       "|---|---|\n",
       "| Fake | 23523 |\n",
       "| True | 21417 |\n",
       "\n"
      ],
      "text/plain": [
       "  label n    \n",
       "1 Fake  23523\n",
       "2 True  21417"
      ]
     },
     "metadata": {},
     "output_type": "display_data"
    }
   ],
   "source": [
    "df %>% group_by(label) %>% summarize(n = n())"
   ]
  },
  {
   "cell_type": "code",
   "execution_count": 50,
   "id": "72f08c9d",
   "metadata": {},
   "outputs": [
    {
     "name": "stderr",
     "output_type": "stream",
     "text": [
      "Warning message:\n",
      "\"Removed 39 rows containing non-finite values (stat_bin).\"\n",
      "Warning message:\n",
      "\"Removed 3 rows containing missing values (geom_bar).\"\n"
     ]
    },
    {
     "data": {
      "image/png": "[encoded data removed]",
      "text/plain": [
       "plot without title"
      ]
     },
     "metadata": {
      "image/png": {
       "height": 420,
       "width": 420
      }
     },
     "output_type": "display_data"
    }
   ],
   "source": [
    "ggplot(df, aes(x = links, fill = label)) +\n",
    "    geom_histogram(alpha = 0.5, bins = 20, position = \"dodge\") + xlab(\"Article Link Count\") + ylab(\"Frequency\") +\n",
    "    theme(plot.title = element_text(size = 12, face = \"bold\"),\n",
    "    legend.title= element_text(size=20), \n",
    "    legend.text= element_text(size=20),\n",
    "    axis.title = element_text(size=20)) +\n",
    "    scale_x_continuous(breaks = c(0,1,2,3,4,5), limits = c(-1, 5))"
   ]
  },
  {
   "cell_type": "code",
   "execution_count": 54,
   "id": "5a3e5d91",
   "metadata": {},
   "outputs": [],
   "source": [
    "library(wordcloud)\n",
    "library(RColorBrewer)\n",
    "library(wordcloud2)\n",
    "library(tm)"
   ]
  },
  {
   "cell_type": "code",
   "execution_count": 76,
   "id": "35b4e45f",
   "metadata": {},
   "outputs": [
    {
     "name": "stderr",
     "output_type": "stream",
     "text": [
      "Warning message in tm_map.SimpleCorpus(., removeNumbers):\n",
      "\"transformation drops documents\"\n",
      "Warning message in tm_map.SimpleCorpus(., removePunctuation):\n",
      "\"transformation drops documents\"\n",
      "Warning message in tm_map.SimpleCorpus(., stripWhitespace):\n",
      "\"transformation drops documents\"\n",
      "Warning message in tm_map.SimpleCorpus(docs, content_transformer(tolower)):\n",
      "\"transformation drops documents\"\n",
      "Warning message in tm_map.SimpleCorpus(docs, removeWords, stopwords(\"english\")):\n",
      "\"transformation drops documents\"\n"
     ]
    },
    {
     "data": {
      "image/png": "[encoded data removed]",
      "text/plain": [
       "plot without title"
      ]
     },
     "metadata": {
      "image/png": {
       "height": 420,
       "width": 420
      }
     },
     "output_type": "display_data"
    }
   ],
   "source": [
    "ftext = fake[sample(1:nrow(fake), 1000),]$text\n",
    "cloud(ftext, 123, \"Set1\")"
   ]
  },
  {
   "cell_type": "code",
   "execution_count": 77,
   "id": "a2ad0146",
   "metadata": {},
   "outputs": [
    {
     "name": "stderr",
     "output_type": "stream",
     "text": [
      "Warning message in tm_map.SimpleCorpus(., removeNumbers):\n",
      "\"transformation drops documents\"\n",
      "Warning message in tm_map.SimpleCorpus(., removePunctuation):\n",
      "\"transformation drops documents\"\n",
      "Warning message in tm_map.SimpleCorpus(., stripWhitespace):\n",
      "\"transformation drops documents\"\n",
      "Warning message in tm_map.SimpleCorpus(docs, content_transformer(tolower)):\n",
      "\"transformation drops documents\"\n",
      "Warning message in tm_map.SimpleCorpus(docs, removeWords, stopwords(\"english\")):\n",
      "\"transformation drops documents\"\n"
     ]
    },
    {
     "data": {
      "image/png": "[encoded data removed]",
      "text/plain": [
       "plot without title"
      ]
     },
     "metadata": {
      "image/png": {
       "height": 420,
       "width": 420
      }
     },
     "output_type": "display_data"
    }
   ],
   "source": [
    "ttext = true[sample(1:nrow(true), 1000),]$text\n",
    "cloud(ttext, 123, \"Dark2\")"
   ]
  },
  {
   "cell_type": "code",
   "execution_count": 74,
   "id": "27a2a443",
   "metadata": {},
   "outputs": [],
   "source": [
    "cloud = function(text, seed, pal){\n",
    "docs <- Corpus(VectorSource(text))\n",
    "docs <- docs %>%\n",
    "  tm_map(removeNumbers) %>%\n",
    "  tm_map(removePunctuation) %>%\n",
    "  tm_map(stripWhitespace)\n",
    "docs <- tm_map(docs, content_transformer(tolower))\n",
    "docs <- tm_map(docs, removeWords, stopwords(\"english\"))\n",
    "\n",
    "dtm <- TermDocumentMatrix(docs) \n",
    "matrix <- as.matrix(dtm) \n",
    "words <- sort(rowSums(matrix),decreasing=TRUE) \n",
    "df2 <- data.frame(word = names(words),freq=words)\n",
    "\n",
    "set.seed(seed) # for reproducibility \n",
    "wordcloud(words = df2$word, freq = df$freq, min.freq = 1,\n",
    "          max.words=200, random.order=FALSE, rot.per=0.35,\n",
    "          colors=brewer.pal(8, pal))\n",
    "    \n",
    "}"
   ]
  },
  {
   "cell_type": "code",
   "execution_count": 66,
   "id": "41a02b16",
   "metadata": {},
   "outputs": [],
   "source": []
  },
  {
   "cell_type": "code",
   "execution_count": null,
   "id": "0d5ab222",
   "metadata": {},
   "outputs": [],
   "source": []
  }
 ],
 "metadata": {
  "kernelspec": {
   "display_name": "R",
   "language": "R",
   "name": "ir"
  },
  "language_info": {
   "codemirror_mode": "r",
   "file_extension": ".r",
   "mimetype": "text/x-r-source",
   "name": "R",
   "pygments_lexer": "r",
   "version": "4.0.5"
  }
 },
 "nbformat": 4,
 "nbformat_minor": 5
}
