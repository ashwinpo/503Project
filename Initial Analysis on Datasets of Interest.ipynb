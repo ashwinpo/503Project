{
 "cells": [
  {
   "cell_type": "code",
   "execution_count": 13,
   "id": "6318f447",
   "metadata": {},
   "outputs": [],
   "source": [
    "library(tidyverse)\n",
    "\n",
    "library(caret)\n",
    "library(randomForest)"
   ]
  },
  {
   "cell_type": "code",
   "execution_count": 17,
   "id": "a08d8499",
   "metadata": {},
   "outputs": [],
   "source": [
    "#df = read.csv(\"Islander_data.csv\")\n",
    "df = read.csv(\"diabetes_data_upload.csv\")"
   ]
  },
  {
   "cell_type": "code",
   "execution_count": 18,
   "id": "1a1d4640",
   "metadata": {},
   "outputs": [
    {
     "data": {
      "text/html": [
       "<table class=\"dataframe\">\n",
       "<caption>A data.frame: 6 × 17</caption>\n",
       "<thead>\n",
       "\t<tr><th></th><th scope=col>Age</th><th scope=col>Gender</th><th scope=col>Polyuria</th><th scope=col>Polydipsia</th><th scope=col>sudden.weight.loss</th><th scope=col>weakness</th><th scope=col>Polyphagia</th><th scope=col>Genital.thrush</th><th scope=col>visual.blurring</th><th scope=col>Itching</th><th scope=col>Irritability</th><th scope=col>delayed.healing</th><th scope=col>partial.paresis</th><th scope=col>muscle.stiffness</th><th scope=col>Alopecia</th><th scope=col>Obesity</th><th scope=col>class</th></tr>\n",
       "\t<tr><th></th><th scope=col>&lt;int&gt;</th><th scope=col>&lt;chr&gt;</th><th scope=col>&lt;chr&gt;</th><th scope=col>&lt;chr&gt;</th><th scope=col>&lt;chr&gt;</th><th scope=col>&lt;chr&gt;</th><th scope=col>&lt;chr&gt;</th><th scope=col>&lt;chr&gt;</th><th scope=col>&lt;chr&gt;</th><th scope=col>&lt;chr&gt;</th><th scope=col>&lt;chr&gt;</th><th scope=col>&lt;chr&gt;</th><th scope=col>&lt;chr&gt;</th><th scope=col>&lt;chr&gt;</th><th scope=col>&lt;chr&gt;</th><th scope=col>&lt;chr&gt;</th><th scope=col>&lt;chr&gt;</th></tr>\n",
       "</thead>\n",
       "<tbody>\n",
       "\t<tr><th scope=row>1</th><td>40</td><td>Male</td><td>No </td><td>Yes</td><td>No </td><td>Yes</td><td>No </td><td>No </td><td>No </td><td>Yes</td><td>No </td><td>Yes</td><td>No </td><td>Yes</td><td>Yes</td><td>Yes</td><td>Positive</td></tr>\n",
       "\t<tr><th scope=row>2</th><td>58</td><td>Male</td><td>No </td><td>No </td><td>No </td><td>Yes</td><td>No </td><td>No </td><td>Yes</td><td>No </td><td>No </td><td>No </td><td>Yes</td><td>No </td><td>Yes</td><td>No </td><td>Positive</td></tr>\n",
       "\t<tr><th scope=row>3</th><td>41</td><td>Male</td><td>Yes</td><td>No </td><td>No </td><td>Yes</td><td>Yes</td><td>No </td><td>No </td><td>Yes</td><td>No </td><td>Yes</td><td>No </td><td>Yes</td><td>Yes</td><td>No </td><td>Positive</td></tr>\n",
       "\t<tr><th scope=row>4</th><td>45</td><td>Male</td><td>No </td><td>No </td><td>Yes</td><td>Yes</td><td>Yes</td><td>Yes</td><td>No </td><td>Yes</td><td>No </td><td>Yes</td><td>No </td><td>No </td><td>No </td><td>No </td><td>Positive</td></tr>\n",
       "\t<tr><th scope=row>5</th><td>60</td><td>Male</td><td>Yes</td><td>Yes</td><td>Yes</td><td>Yes</td><td>Yes</td><td>No </td><td>Yes</td><td>Yes</td><td>Yes</td><td>Yes</td><td>Yes</td><td>Yes</td><td>Yes</td><td>Yes</td><td>Positive</td></tr>\n",
       "\t<tr><th scope=row>6</th><td>55</td><td>Male</td><td>Yes</td><td>Yes</td><td>No </td><td>Yes</td><td>Yes</td><td>No </td><td>Yes</td><td>Yes</td><td>No </td><td>Yes</td><td>No </td><td>Yes</td><td>Yes</td><td>Yes</td><td>Positive</td></tr>\n",
       "</tbody>\n",
       "</table>\n"
      ],
      "text/latex": [
       "A data.frame: 6 × 17\n",
       "\\begin{tabular}{r|lllllllllllllllll}\n",
       "  & Age & Gender & Polyuria & Polydipsia & sudden.weight.loss & weakness & Polyphagia & Genital.thrush & visual.blurring & Itching & Irritability & delayed.healing & partial.paresis & muscle.stiffness & Alopecia & Obesity & class\\\\\n",
       "  & <int> & <chr> & <chr> & <chr> & <chr> & <chr> & <chr> & <chr> & <chr> & <chr> & <chr> & <chr> & <chr> & <chr> & <chr> & <chr> & <chr>\\\\\n",
       "\\hline\n",
       "\t1 & 40 & Male & No  & Yes & No  & Yes & No  & No  & No  & Yes & No  & Yes & No  & Yes & Yes & Yes & Positive\\\\\n",
       "\t2 & 58 & Male & No  & No  & No  & Yes & No  & No  & Yes & No  & No  & No  & Yes & No  & Yes & No  & Positive\\\\\n",
       "\t3 & 41 & Male & Yes & No  & No  & Yes & Yes & No  & No  & Yes & No  & Yes & No  & Yes & Yes & No  & Positive\\\\\n",
       "\t4 & 45 & Male & No  & No  & Yes & Yes & Yes & Yes & No  & Yes & No  & Yes & No  & No  & No  & No  & Positive\\\\\n",
       "\t5 & 60 & Male & Yes & Yes & Yes & Yes & Yes & No  & Yes & Yes & Yes & Yes & Yes & Yes & Yes & Yes & Positive\\\\\n",
       "\t6 & 55 & Male & Yes & Yes & No  & Yes & Yes & No  & Yes & Yes & No  & Yes & No  & Yes & Yes & Yes & Positive\\\\\n",
       "\\end{tabular}\n"
      ],
      "text/markdown": [
       "\n",
       "A data.frame: 6 × 17\n",
       "\n",
       "| <!--/--> | Age &lt;int&gt; | Gender &lt;chr&gt; | Polyuria &lt;chr&gt; | Polydipsia &lt;chr&gt; | sudden.weight.loss &lt;chr&gt; | weakness &lt;chr&gt; | Polyphagia &lt;chr&gt; | Genital.thrush &lt;chr&gt; | visual.blurring &lt;chr&gt; | Itching &lt;chr&gt; | Irritability &lt;chr&gt; | delayed.healing &lt;chr&gt; | partial.paresis &lt;chr&gt; | muscle.stiffness &lt;chr&gt; | Alopecia &lt;chr&gt; | Obesity &lt;chr&gt; | class &lt;chr&gt; |\n",
       "|---|---|---|---|---|---|---|---|---|---|---|---|---|---|---|---|---|---|\n",
       "| 1 | 40 | Male | No  | Yes | No  | Yes | No  | No  | No  | Yes | No  | Yes | No  | Yes | Yes | Yes | Positive |\n",
       "| 2 | 58 | Male | No  | No  | No  | Yes | No  | No  | Yes | No  | No  | No  | Yes | No  | Yes | No  | Positive |\n",
       "| 3 | 41 | Male | Yes | No  | No  | Yes | Yes | No  | No  | Yes | No  | Yes | No  | Yes | Yes | No  | Positive |\n",
       "| 4 | 45 | Male | No  | No  | Yes | Yes | Yes | Yes | No  | Yes | No  | Yes | No  | No  | No  | No  | Positive |\n",
       "| 5 | 60 | Male | Yes | Yes | Yes | Yes | Yes | No  | Yes | Yes | Yes | Yes | Yes | Yes | Yes | Yes | Positive |\n",
       "| 6 | 55 | Male | Yes | Yes | No  | Yes | Yes | No  | Yes | Yes | No  | Yes | No  | Yes | Yes | Yes | Positive |\n",
       "\n"
      ],
      "text/plain": [
       "  Age Gender Polyuria Polydipsia sudden.weight.loss weakness Polyphagia\n",
       "1 40  Male   No       Yes        No                 Yes      No        \n",
       "2 58  Male   No       No         No                 Yes      No        \n",
       "3 41  Male   Yes      No         No                 Yes      Yes       \n",
       "4 45  Male   No       No         Yes                Yes      Yes       \n",
       "5 60  Male   Yes      Yes        Yes                Yes      Yes       \n",
       "6 55  Male   Yes      Yes        No                 Yes      Yes       \n",
       "  Genital.thrush visual.blurring Itching Irritability delayed.healing\n",
       "1 No             No              Yes     No           Yes            \n",
       "2 No             Yes             No      No           No             \n",
       "3 No             No              Yes     No           Yes            \n",
       "4 Yes            No              Yes     No           Yes            \n",
       "5 No             Yes             Yes     Yes          Yes            \n",
       "6 No             Yes             Yes     No           Yes            \n",
       "  partial.paresis muscle.stiffness Alopecia Obesity class   \n",
       "1 No              Yes              Yes      Yes     Positive\n",
       "2 Yes             No               Yes      No      Positive\n",
       "3 No              Yes              Yes      No      Positive\n",
       "4 No              No               No       No      Positive\n",
       "5 Yes             Yes              Yes      Yes     Positive\n",
       "6 No              Yes              Yes      Yes     Positive"
      ]
     },
     "metadata": {},
     "output_type": "display_data"
    },
    {
     "data": {
      "text/html": [
       "<style>\n",
       ".list-inline {list-style: none; margin:0; padding: 0}\n",
       ".list-inline>li {display: inline-block}\n",
       ".list-inline>li:not(:last-child)::after {content: \"\\00b7\"; padding: 0 .5ex}\n",
       "</style>\n",
       "<ol class=list-inline><li>520</li><li>17</li></ol>\n"
      ],
      "text/latex": [
       "\\begin{enumerate*}\n",
       "\\item 520\n",
       "\\item 17\n",
       "\\end{enumerate*}\n"
      ],
      "text/markdown": [
       "1. 520\n",
       "2. 17\n",
       "\n",
       "\n"
      ],
      "text/plain": [
       "[1] 520  17"
      ]
     },
     "metadata": {},
     "output_type": "display_data"
    }
   ],
   "source": [
    "df %>% head\n",
    "df %>% dim"
   ]
  },
  {
   "cell_type": "code",
   "execution_count": 23,
   "id": "044af4e5",
   "metadata": {},
   "outputs": [],
   "source": [
    "# Convert character vectors to factors\n",
    "df[sapply(df, is.character)] = lapply(df[sapply(df, is.character)], \n",
    "                                                           as.factor)"
   ]
  },
  {
   "cell_type": "code",
   "execution_count": 24,
   "id": "712f6882",
   "metadata": {},
   "outputs": [
    {
     "data": {
      "text/html": [
       "<table class=\"dataframe\">\n",
       "<caption>A data.frame: 6 × 17</caption>\n",
       "<thead>\n",
       "\t<tr><th></th><th scope=col>Age</th><th scope=col>Gender</th><th scope=col>Polyuria</th><th scope=col>Polydipsia</th><th scope=col>sudden.weight.loss</th><th scope=col>weakness</th><th scope=col>Polyphagia</th><th scope=col>Genital.thrush</th><th scope=col>visual.blurring</th><th scope=col>Itching</th><th scope=col>Irritability</th><th scope=col>delayed.healing</th><th scope=col>partial.paresis</th><th scope=col>muscle.stiffness</th><th scope=col>Alopecia</th><th scope=col>Obesity</th><th scope=col>class</th></tr>\n",
       "\t<tr><th></th><th scope=col>&lt;int&gt;</th><th scope=col>&lt;fct&gt;</th><th scope=col>&lt;fct&gt;</th><th scope=col>&lt;fct&gt;</th><th scope=col>&lt;fct&gt;</th><th scope=col>&lt;fct&gt;</th><th scope=col>&lt;fct&gt;</th><th scope=col>&lt;fct&gt;</th><th scope=col>&lt;fct&gt;</th><th scope=col>&lt;fct&gt;</th><th scope=col>&lt;fct&gt;</th><th scope=col>&lt;fct&gt;</th><th scope=col>&lt;fct&gt;</th><th scope=col>&lt;fct&gt;</th><th scope=col>&lt;fct&gt;</th><th scope=col>&lt;fct&gt;</th><th scope=col>&lt;fct&gt;</th></tr>\n",
       "</thead>\n",
       "<tbody>\n",
       "\t<tr><th scope=row>1</th><td>40</td><td>Male</td><td>No </td><td>Yes</td><td>No </td><td>Yes</td><td>No </td><td>No </td><td>No </td><td>Yes</td><td>No </td><td>Yes</td><td>No </td><td>Yes</td><td>Yes</td><td>Yes</td><td>Positive</td></tr>\n",
       "\t<tr><th scope=row>2</th><td>58</td><td>Male</td><td>No </td><td>No </td><td>No </td><td>Yes</td><td>No </td><td>No </td><td>Yes</td><td>No </td><td>No </td><td>No </td><td>Yes</td><td>No </td><td>Yes</td><td>No </td><td>Positive</td></tr>\n",
       "\t<tr><th scope=row>3</th><td>41</td><td>Male</td><td>Yes</td><td>No </td><td>No </td><td>Yes</td><td>Yes</td><td>No </td><td>No </td><td>Yes</td><td>No </td><td>Yes</td><td>No </td><td>Yes</td><td>Yes</td><td>No </td><td>Positive</td></tr>\n",
       "\t<tr><th scope=row>4</th><td>45</td><td>Male</td><td>No </td><td>No </td><td>Yes</td><td>Yes</td><td>Yes</td><td>Yes</td><td>No </td><td>Yes</td><td>No </td><td>Yes</td><td>No </td><td>No </td><td>No </td><td>No </td><td>Positive</td></tr>\n",
       "\t<tr><th scope=row>5</th><td>60</td><td>Male</td><td>Yes</td><td>Yes</td><td>Yes</td><td>Yes</td><td>Yes</td><td>No </td><td>Yes</td><td>Yes</td><td>Yes</td><td>Yes</td><td>Yes</td><td>Yes</td><td>Yes</td><td>Yes</td><td>Positive</td></tr>\n",
       "\t<tr><th scope=row>6</th><td>55</td><td>Male</td><td>Yes</td><td>Yes</td><td>No </td><td>Yes</td><td>Yes</td><td>No </td><td>Yes</td><td>Yes</td><td>No </td><td>Yes</td><td>No </td><td>Yes</td><td>Yes</td><td>Yes</td><td>Positive</td></tr>\n",
       "</tbody>\n",
       "</table>\n"
      ],
      "text/latex": [
       "A data.frame: 6 × 17\n",
       "\\begin{tabular}{r|lllllllllllllllll}\n",
       "  & Age & Gender & Polyuria & Polydipsia & sudden.weight.loss & weakness & Polyphagia & Genital.thrush & visual.blurring & Itching & Irritability & delayed.healing & partial.paresis & muscle.stiffness & Alopecia & Obesity & class\\\\\n",
       "  & <int> & <fct> & <fct> & <fct> & <fct> & <fct> & <fct> & <fct> & <fct> & <fct> & <fct> & <fct> & <fct> & <fct> & <fct> & <fct> & <fct>\\\\\n",
       "\\hline\n",
       "\t1 & 40 & Male & No  & Yes & No  & Yes & No  & No  & No  & Yes & No  & Yes & No  & Yes & Yes & Yes & Positive\\\\\n",
       "\t2 & 58 & Male & No  & No  & No  & Yes & No  & No  & Yes & No  & No  & No  & Yes & No  & Yes & No  & Positive\\\\\n",
       "\t3 & 41 & Male & Yes & No  & No  & Yes & Yes & No  & No  & Yes & No  & Yes & No  & Yes & Yes & No  & Positive\\\\\n",
       "\t4 & 45 & Male & No  & No  & Yes & Yes & Yes & Yes & No  & Yes & No  & Yes & No  & No  & No  & No  & Positive\\\\\n",
       "\t5 & 60 & Male & Yes & Yes & Yes & Yes & Yes & No  & Yes & Yes & Yes & Yes & Yes & Yes & Yes & Yes & Positive\\\\\n",
       "\t6 & 55 & Male & Yes & Yes & No  & Yes & Yes & No  & Yes & Yes & No  & Yes & No  & Yes & Yes & Yes & Positive\\\\\n",
       "\\end{tabular}\n"
      ],
      "text/markdown": [
       "\n",
       "A data.frame: 6 × 17\n",
       "\n",
       "| <!--/--> | Age &lt;int&gt; | Gender &lt;fct&gt; | Polyuria &lt;fct&gt; | Polydipsia &lt;fct&gt; | sudden.weight.loss &lt;fct&gt; | weakness &lt;fct&gt; | Polyphagia &lt;fct&gt; | Genital.thrush &lt;fct&gt; | visual.blurring &lt;fct&gt; | Itching &lt;fct&gt; | Irritability &lt;fct&gt; | delayed.healing &lt;fct&gt; | partial.paresis &lt;fct&gt; | muscle.stiffness &lt;fct&gt; | Alopecia &lt;fct&gt; | Obesity &lt;fct&gt; | class &lt;fct&gt; |\n",
       "|---|---|---|---|---|---|---|---|---|---|---|---|---|---|---|---|---|---|\n",
       "| 1 | 40 | Male | No  | Yes | No  | Yes | No  | No  | No  | Yes | No  | Yes | No  | Yes | Yes | Yes | Positive |\n",
       "| 2 | 58 | Male | No  | No  | No  | Yes | No  | No  | Yes | No  | No  | No  | Yes | No  | Yes | No  | Positive |\n",
       "| 3 | 41 | Male | Yes | No  | No  | Yes | Yes | No  | No  | Yes | No  | Yes | No  | Yes | Yes | No  | Positive |\n",
       "| 4 | 45 | Male | No  | No  | Yes | Yes | Yes | Yes | No  | Yes | No  | Yes | No  | No  | No  | No  | Positive |\n",
       "| 5 | 60 | Male | Yes | Yes | Yes | Yes | Yes | No  | Yes | Yes | Yes | Yes | Yes | Yes | Yes | Yes | Positive |\n",
       "| 6 | 55 | Male | Yes | Yes | No  | Yes | Yes | No  | Yes | Yes | No  | Yes | No  | Yes | Yes | Yes | Positive |\n",
       "\n"
      ],
      "text/plain": [
       "  Age Gender Polyuria Polydipsia sudden.weight.loss weakness Polyphagia\n",
       "1 40  Male   No       Yes        No                 Yes      No        \n",
       "2 58  Male   No       No         No                 Yes      No        \n",
       "3 41  Male   Yes      No         No                 Yes      Yes       \n",
       "4 45  Male   No       No         Yes                Yes      Yes       \n",
       "5 60  Male   Yes      Yes        Yes                Yes      Yes       \n",
       "6 55  Male   Yes      Yes        No                 Yes      Yes       \n",
       "  Genital.thrush visual.blurring Itching Irritability delayed.healing\n",
       "1 No             No              Yes     No           Yes            \n",
       "2 No             Yes             No      No           No             \n",
       "3 No             No              Yes     No           Yes            \n",
       "4 Yes            No              Yes     No           Yes            \n",
       "5 No             Yes             Yes     Yes          Yes            \n",
       "6 No             Yes             Yes     No           Yes            \n",
       "  partial.paresis muscle.stiffness Alopecia Obesity class   \n",
       "1 No              Yes              Yes      Yes     Positive\n",
       "2 Yes             No               Yes      No      Positive\n",
       "3 No              Yes              Yes      No      Positive\n",
       "4 No              No               No       No      Positive\n",
       "5 Yes             Yes              Yes      Yes     Positive\n",
       "6 No              Yes              Yes      Yes     Positive"
      ]
     },
     "metadata": {},
     "output_type": "display_data"
    }
   ],
   "source": [
    "df %>% head"
   ]
  },
  {
   "cell_type": "code",
   "execution_count": 25,
   "id": "05e1cca3",
   "metadata": {},
   "outputs": [
    {
     "data": {
      "text/html": [
       "<style>\n",
       ".list-inline {list-style: none; margin:0; padding: 0}\n",
       ".list-inline>li {display: inline-block}\n",
       ".list-inline>li:not(:last-child)::after {content: \"\\00b7\"; padding: 0 .5ex}\n",
       "</style>\n",
       "<ol class=list-inline><li>390</li><li>17</li></ol>\n"
      ],
      "text/latex": [
       "\\begin{enumerate*}\n",
       "\\item 390\n",
       "\\item 17\n",
       "\\end{enumerate*}\n"
      ],
      "text/markdown": [
       "1. 390\n",
       "2. 17\n",
       "\n",
       "\n"
      ],
      "text/plain": [
       "[1] 390  17"
      ]
     },
     "metadata": {},
     "output_type": "display_data"
    },
    {
     "data": {
      "text/html": [
       "<style>\n",
       ".list-inline {list-style: none; margin:0; padding: 0}\n",
       ".list-inline>li {display: inline-block}\n",
       ".list-inline>li:not(:last-child)::after {content: \"\\00b7\"; padding: 0 .5ex}\n",
       "</style>\n",
       "<ol class=list-inline><li>130</li><li>17</li></ol>\n"
      ],
      "text/latex": [
       "\\begin{enumerate*}\n",
       "\\item 130\n",
       "\\item 17\n",
       "\\end{enumerate*}\n"
      ],
      "text/markdown": [
       "1. 130\n",
       "2. 17\n",
       "\n",
       "\n"
      ],
      "text/plain": [
       "[1] 130  17"
      ]
     },
     "metadata": {},
     "output_type": "display_data"
    }
   ],
   "source": [
    "set.seed(503)\n",
    "train_ind  = sample(1:nrow(df), floor(.75*nrow(df)))\n",
    "train = df[train_ind,]\n",
    "test = df[-train_ind,]\n",
    "\n",
    "train %>% dim\n",
    "test %>% dim"
   ]
  },
  {
   "cell_type": "code",
   "execution_count": 26,
   "id": "1638cc94",
   "metadata": {},
   "outputs": [],
   "source": [
    "trControl <- trainControl(method = \"cv\",\n",
    "    number = 10,\n",
    "    search = \"grid\")"
   ]
  },
  {
   "cell_type": "code",
   "execution_count": 34,
   "id": "056dce59",
   "metadata": {},
   "outputs": [],
   "source": [
    "#train(Drug ~ Happy_Sad_group + Dosage + Diff, train, method = \"rf\", metric= \"Accuracy\", trControl = trainControl(), tuneGrid = NULL)\n",
    "\n",
    "rf = train(class ~ ., train, method = \"rf\", metric= \"Accuracy\", trControl = trainControl(), tuneGrid = NULL)"
   ]
  },
  {
   "cell_type": "code",
   "execution_count": 35,
   "id": "c14a91de",
   "metadata": {},
   "outputs": [
    {
     "data": {
      "text/html": [
       "0"
      ],
      "text/latex": [
       "0"
      ],
      "text/markdown": [
       "0"
      ],
      "text/plain": [
       "[1] 0"
      ]
     },
     "metadata": {},
     "output_type": "display_data"
    }
   ],
   "source": [
    "mean(predict(rf, newdata= test) != test$class)"
   ]
  },
  {
   "cell_type": "code",
   "execution_count": 48,
   "id": "ace9be50",
   "metadata": {},
   "outputs": [
    {
     "data": {
      "text/html": [
       "<style>\n",
       ".list-inline {list-style: none; margin:0; padding: 0}\n",
       ".list-inline>li {display: inline-block}\n",
       ".list-inline>li:not(:last-child)::after {content: \"\\00b7\"; padding: 0 .5ex}\n",
       "</style>\n",
       "<ol class=list-inline><li>Positive</li><li>Positive</li><li>Positive</li><li>Positive</li><li>Positive</li><li>Positive</li><li>Positive</li><li>Positive</li><li>Positive</li><li>Positive</li><li>Positive</li><li>Positive</li><li>Positive</li><li>Positive</li><li>Positive</li><li>Positive</li><li>Positive</li><li>Positive</li><li>Positive</li><li>Positive</li><li>Positive</li><li>Positive</li><li>Positive</li><li>Positive</li><li>Positive</li><li>Positive</li><li>Positive</li><li>Positive</li><li>Positive</li><li>Positive</li><li>Positive</li><li>Positive</li><li>Positive</li><li>Positive</li><li>Positive</li><li>Positive</li><li>Positive</li><li>Positive</li><li>Positive</li><li>Positive</li><li>Positive</li><li>Positive</li><li>Positive</li><li>Positive</li><li>Positive</li><li>Positive</li><li>Positive</li><li>Positive</li><li>Positive</li><li>Positive</li><li>Positive</li><li>Positive</li><li>Negative</li><li>Negative</li><li>Negative</li><li>Negative</li><li>Negative</li><li>Negative</li><li>Negative</li><li>Negative</li><li>Negative</li><li>Negative</li><li>Negative</li><li>Negative</li><li>Negative</li><li>Negative</li><li>Negative</li><li>Positive</li><li>Positive</li><li>Positive</li><li>Positive</li><li>Positive</li><li>Positive</li><li>Positive</li><li>Positive</li><li>Negative</li><li>Negative</li><li>Negative</li><li>Negative</li><li>Negative</li><li>Negative</li><li>Positive</li><li>Positive</li><li>Positive</li><li>Negative</li><li>Negative</li><li>Negative</li><li>Negative</li><li>Negative</li><li>Negative</li><li>Positive</li><li>Positive</li><li>Negative</li><li>Negative</li><li>Positive</li><li>Positive</li><li>Negative</li><li>Negative</li><li>Negative</li><li>Negative</li><li>Negative</li><li>Negative</li><li>Negative</li><li>Negative</li><li>Negative</li><li>Negative</li><li>Positive</li><li>Positive</li><li>Positive</li><li>Positive</li><li>Positive</li><li>Positive</li><li>Positive</li><li>Positive</li><li>Positive</li><li>Positive</li><li>Positive</li><li>Negative</li><li>Negative</li><li>Negative</li><li>Positive</li><li>Negative</li><li>Negative</li><li>Negative</li><li>Negative</li><li>Negative</li><li>Negative</li><li>Negative</li><li>Positive</li><li>Positive</li></ol>\n",
       "\n",
       "<details>\n",
       "\t<summary style=display:list-item;cursor:pointer>\n",
       "\t\t<strong>Levels</strong>:\n",
       "\t</summary>\n",
       "\t<style>\n",
       "\t.list-inline {list-style: none; margin:0; padding: 0}\n",
       "\t.list-inline>li {display: inline-block}\n",
       "\t.list-inline>li:not(:last-child)::after {content: \"\\00b7\"; padding: 0 .5ex}\n",
       "\t</style>\n",
       "\t<ol class=list-inline><li>'Negative'</li><li>'Positive'</li></ol>\n",
       "</details>"
      ],
      "text/latex": [
       "\\begin{enumerate*}\n",
       "\\item Positive\n",
       "\\item Positive\n",
       "\\item Positive\n",
       "\\item Positive\n",
       "\\item Positive\n",
       "\\item Positive\n",
       "\\item Positive\n",
       "\\item Positive\n",
       "\\item Positive\n",
       "\\item Positive\n",
       "\\item Positive\n",
       "\\item Positive\n",
       "\\item Positive\n",
       "\\item Positive\n",
       "\\item Positive\n",
       "\\item Positive\n",
       "\\item Positive\n",
       "\\item Positive\n",
       "\\item Positive\n",
       "\\item Positive\n",
       "\\item Positive\n",
       "\\item Positive\n",
       "\\item Positive\n",
       "\\item Positive\n",
       "\\item Positive\n",
       "\\item Positive\n",
       "\\item Positive\n",
       "\\item Positive\n",
       "\\item Positive\n",
       "\\item Positive\n",
       "\\item Positive\n",
       "\\item Positive\n",
       "\\item Positive\n",
       "\\item Positive\n",
       "\\item Positive\n",
       "\\item Positive\n",
       "\\item Positive\n",
       "\\item Positive\n",
       "\\item Positive\n",
       "\\item Positive\n",
       "\\item Positive\n",
       "\\item Positive\n",
       "\\item Positive\n",
       "\\item Positive\n",
       "\\item Positive\n",
       "\\item Positive\n",
       "\\item Positive\n",
       "\\item Positive\n",
       "\\item Positive\n",
       "\\item Positive\n",
       "\\item Positive\n",
       "\\item Positive\n",
       "\\item Negative\n",
       "\\item Negative\n",
       "\\item Negative\n",
       "\\item Negative\n",
       "\\item Negative\n",
       "\\item Negative\n",
       "\\item Negative\n",
       "\\item Negative\n",
       "\\item Negative\n",
       "\\item Negative\n",
       "\\item Negative\n",
       "\\item Negative\n",
       "\\item Negative\n",
       "\\item Negative\n",
       "\\item Negative\n",
       "\\item Positive\n",
       "\\item Positive\n",
       "\\item Positive\n",
       "\\item Positive\n",
       "\\item Positive\n",
       "\\item Positive\n",
       "\\item Positive\n",
       "\\item Positive\n",
       "\\item Negative\n",
       "\\item Negative\n",
       "\\item Negative\n",
       "\\item Negative\n",
       "\\item Negative\n",
       "\\item Negative\n",
       "\\item Positive\n",
       "\\item Positive\n",
       "\\item Positive\n",
       "\\item Negative\n",
       "\\item Negative\n",
       "\\item Negative\n",
       "\\item Negative\n",
       "\\item Negative\n",
       "\\item Negative\n",
       "\\item Positive\n",
       "\\item Positive\n",
       "\\item Negative\n",
       "\\item Negative\n",
       "\\item Positive\n",
       "\\item Positive\n",
       "\\item Negative\n",
       "\\item Negative\n",
       "\\item Negative\n",
       "\\item Negative\n",
       "\\item Negative\n",
       "\\item Negative\n",
       "\\item Negative\n",
       "\\item Negative\n",
       "\\item Negative\n",
       "\\item Negative\n",
       "\\item Positive\n",
       "\\item Positive\n",
       "\\item Positive\n",
       "\\item Positive\n",
       "\\item Positive\n",
       "\\item Positive\n",
       "\\item Positive\n",
       "\\item Positive\n",
       "\\item Positive\n",
       "\\item Positive\n",
       "\\item Positive\n",
       "\\item Negative\n",
       "\\item Negative\n",
       "\\item Negative\n",
       "\\item Positive\n",
       "\\item Negative\n",
       "\\item Negative\n",
       "\\item Negative\n",
       "\\item Negative\n",
       "\\item Negative\n",
       "\\item Negative\n",
       "\\item Negative\n",
       "\\item Positive\n",
       "\\item Positive\n",
       "\\end{enumerate*}\n",
       "\n",
       "\\emph{Levels}: \\begin{enumerate*}\n",
       "\\item 'Negative'\n",
       "\\item 'Positive'\n",
       "\\end{enumerate*}\n"
      ],
      "text/markdown": [
       "1. Positive\n",
       "2. Positive\n",
       "3. Positive\n",
       "4. Positive\n",
       "5. Positive\n",
       "6. Positive\n",
       "7. Positive\n",
       "8. Positive\n",
       "9. Positive\n",
       "10. Positive\n",
       "11. Positive\n",
       "12. Positive\n",
       "13. Positive\n",
       "14. Positive\n",
       "15. Positive\n",
       "16. Positive\n",
       "17. Positive\n",
       "18. Positive\n",
       "19. Positive\n",
       "20. Positive\n",
       "21. Positive\n",
       "22. Positive\n",
       "23. Positive\n",
       "24. Positive\n",
       "25. Positive\n",
       "26. Positive\n",
       "27. Positive\n",
       "28. Positive\n",
       "29. Positive\n",
       "30. Positive\n",
       "31. Positive\n",
       "32. Positive\n",
       "33. Positive\n",
       "34. Positive\n",
       "35. Positive\n",
       "36. Positive\n",
       "37. Positive\n",
       "38. Positive\n",
       "39. Positive\n",
       "40. Positive\n",
       "41. Positive\n",
       "42. Positive\n",
       "43. Positive\n",
       "44. Positive\n",
       "45. Positive\n",
       "46. Positive\n",
       "47. Positive\n",
       "48. Positive\n",
       "49. Positive\n",
       "50. Positive\n",
       "51. Positive\n",
       "52. Positive\n",
       "53. Negative\n",
       "54. Negative\n",
       "55. Negative\n",
       "56. Negative\n",
       "57. Negative\n",
       "58. Negative\n",
       "59. Negative\n",
       "60. Negative\n",
       "61. Negative\n",
       "62. Negative\n",
       "63. Negative\n",
       "64. Negative\n",
       "65. Negative\n",
       "66. Negative\n",
       "67. Negative\n",
       "68. Positive\n",
       "69. Positive\n",
       "70. Positive\n",
       "71. Positive\n",
       "72. Positive\n",
       "73. Positive\n",
       "74. Positive\n",
       "75. Positive\n",
       "76. Negative\n",
       "77. Negative\n",
       "78. Negative\n",
       "79. Negative\n",
       "80. Negative\n",
       "81. Negative\n",
       "82. Positive\n",
       "83. Positive\n",
       "84. Positive\n",
       "85. Negative\n",
       "86. Negative\n",
       "87. Negative\n",
       "88. Negative\n",
       "89. Negative\n",
       "90. Negative\n",
       "91. Positive\n",
       "92. Positive\n",
       "93. Negative\n",
       "94. Negative\n",
       "95. Positive\n",
       "96. Positive\n",
       "97. Negative\n",
       "98. Negative\n",
       "99. Negative\n",
       "100. Negative\n",
       "101. Negative\n",
       "102. Negative\n",
       "103. Negative\n",
       "104. Negative\n",
       "105. Negative\n",
       "106. Negative\n",
       "107. Positive\n",
       "108. Positive\n",
       "109. Positive\n",
       "110. Positive\n",
       "111. Positive\n",
       "112. Positive\n",
       "113. Positive\n",
       "114. Positive\n",
       "115. Positive\n",
       "116. Positive\n",
       "117. Positive\n",
       "118. Negative\n",
       "119. Negative\n",
       "120. Negative\n",
       "121. Positive\n",
       "122. Negative\n",
       "123. Negative\n",
       "124. Negative\n",
       "125. Negative\n",
       "126. Negative\n",
       "127. Negative\n",
       "128. Negative\n",
       "129. Positive\n",
       "130. Positive\n",
       "\n",
       "\n",
       "\n",
       "**Levels**: 1. 'Negative'\n",
       "2. 'Positive'\n",
       "\n",
       "\n"
      ],
      "text/plain": [
       "  [1] Positive Positive Positive Positive Positive Positive Positive Positive\n",
       "  [9] Positive Positive Positive Positive Positive Positive Positive Positive\n",
       " [17] Positive Positive Positive Positive Positive Positive Positive Positive\n",
       " [25] Positive Positive Positive Positive Positive Positive Positive Positive\n",
       " [33] Positive Positive Positive Positive Positive Positive Positive Positive\n",
       " [41] Positive Positive Positive Positive Positive Positive Positive Positive\n",
       " [49] Positive Positive Positive Positive Negative Negative Negative Negative\n",
       " [57] Negative Negative Negative Negative Negative Negative Negative Negative\n",
       " [65] Negative Negative Negative Positive Positive Positive Positive Positive\n",
       " [73] Positive Positive Positive Negative Negative Negative Negative Negative\n",
       " [81] Negative Positive Positive Positive Negative Negative Negative Negative\n",
       " [89] Negative Negative Positive Positive Negative Negative Positive Positive\n",
       " [97] Negative Negative Negative Negative Negative Negative Negative Negative\n",
       "[105] Negative Negative Positive Positive Positive Positive Positive Positive\n",
       "[113] Positive Positive Positive Positive Positive Negative Negative Negative\n",
       "[121] Positive Negative Negative Negative Negative Negative Negative Negative\n",
       "[129] Positive Positive\n",
       "Levels: Negative Positive"
      ]
     },
     "metadata": {},
     "output_type": "display_data"
    }
   ],
   "source": [
    "predict(rf, newdata= test)"
   ]
  },
  {
   "cell_type": "code",
   "execution_count": 36,
   "id": "c1ca461e",
   "metadata": {},
   "outputs": [],
   "source": [
    "lr = glm(class ~ ., train, family = \"binomial\")"
   ]
  },
  {
   "cell_type": "code",
   "execution_count": 47,
   "id": "a6ff9aa8",
   "metadata": {},
   "outputs": [
    {
     "data": {
      "text/html": [
       "0.0846153846153846"
      ],
      "text/latex": [
       "0.0846153846153846"
      ],
      "text/markdown": [
       "0.0846153846153846"
      ],
      "text/plain": [
       "[1] 0.08461538"
      ]
     },
     "metadata": {},
     "output_type": "display_data"
    }
   ],
   "source": [
    "mean(ifelse(round(predict(lr, newdata= test, type = \"response\"), 0) == 0, \"Negative\", \"Positive\") != test$class)"
   ]
  },
  {
   "cell_type": "code",
   "execution_count": 50,
   "id": "ba03c044",
   "metadata": {},
   "outputs": [
    {
     "data": {
      "text/html": [
       "<style>\n",
       ".list-inline {list-style: none; margin:0; padding: 0}\n",
       ".list-inline>li {display: inline-block}\n",
       ".list-inline>li:not(:last-child)::after {content: \"\\00b7\"; padding: 0 .5ex}\n",
       "</style>\n",
       "<ol class=list-inline><li>'method'</li><li>'modelInfo'</li><li>'modelType'</li><li>'results'</li><li>'pred'</li><li>'bestTune'</li><li>'call'</li><li>'dots'</li><li>'metric'</li><li>'control'</li><li>'finalModel'</li><li>'preProcess'</li><li>'trainingData'</li><li>'ptype'</li><li>'resample'</li><li>'resampledCM'</li><li>'perfNames'</li><li>'maximize'</li><li>'yLimits'</li><li>'times'</li><li>'levels'</li><li>'terms'</li><li>'coefnames'</li><li>'contrasts'</li><li>'xlevels'</li></ol>\n"
      ],
      "text/latex": [
       "\\begin{enumerate*}\n",
       "\\item 'method'\n",
       "\\item 'modelInfo'\n",
       "\\item 'modelType'\n",
       "\\item 'results'\n",
       "\\item 'pred'\n",
       "\\item 'bestTune'\n",
       "\\item 'call'\n",
       "\\item 'dots'\n",
       "\\item 'metric'\n",
       "\\item 'control'\n",
       "\\item 'finalModel'\n",
       "\\item 'preProcess'\n",
       "\\item 'trainingData'\n",
       "\\item 'ptype'\n",
       "\\item 'resample'\n",
       "\\item 'resampledCM'\n",
       "\\item 'perfNames'\n",
       "\\item 'maximize'\n",
       "\\item 'yLimits'\n",
       "\\item 'times'\n",
       "\\item 'levels'\n",
       "\\item 'terms'\n",
       "\\item 'coefnames'\n",
       "\\item 'contrasts'\n",
       "\\item 'xlevels'\n",
       "\\end{enumerate*}\n"
      ],
      "text/markdown": [
       "1. 'method'\n",
       "2. 'modelInfo'\n",
       "3. 'modelType'\n",
       "4. 'results'\n",
       "5. 'pred'\n",
       "6. 'bestTune'\n",
       "7. 'call'\n",
       "8. 'dots'\n",
       "9. 'metric'\n",
       "10. 'control'\n",
       "11. 'finalModel'\n",
       "12. 'preProcess'\n",
       "13. 'trainingData'\n",
       "14. 'ptype'\n",
       "15. 'resample'\n",
       "16. 'resampledCM'\n",
       "17. 'perfNames'\n",
       "18. 'maximize'\n",
       "19. 'yLimits'\n",
       "20. 'times'\n",
       "21. 'levels'\n",
       "22. 'terms'\n",
       "23. 'coefnames'\n",
       "24. 'contrasts'\n",
       "25. 'xlevels'\n",
       "\n",
       "\n"
      ],
      "text/plain": [
       " [1] \"method\"       \"modelInfo\"    \"modelType\"    \"results\"      \"pred\"        \n",
       " [6] \"bestTune\"     \"call\"         \"dots\"         \"metric\"       \"control\"     \n",
       "[11] \"finalModel\"   \"preProcess\"   \"trainingData\" \"ptype\"        \"resample\"    \n",
       "[16] \"resampledCM\"  \"perfNames\"    \"maximize\"     \"yLimits\"      \"times\"       \n",
       "[21] \"levels\"       \"terms\"        \"coefnames\"    \"contrasts\"    \"xlevels\"     "
      ]
     },
     "metadata": {},
     "output_type": "display_data"
    }
   ],
   "source": [
    "names(rf)"
   ]
  },
  {
   "cell_type": "code",
   "execution_count": 52,
   "id": "f78953a9",
   "metadata": {},
   "outputs": [
    {
     "data": {
      "image/png": "[encoded data removed]",
      "text/plain": [
       "Plot with title \"rf$finalModel\""
      ]
     },
     "metadata": {
      "image/png": {
       "height": 420,
       "width": 420
      }
     },
     "output_type": "display_data"
    }
   ],
   "source": [
    "varImpPlot(rf$finalModel)"
   ]
  }
 ],
 "metadata": {
  "kernelspec": {
   "display_name": "R",
   "language": "R",
   "name": "ir"
  },
  "language_info": {
   "codemirror_mode": "r",
   "file_extension": ".r",
   "mimetype": "text/x-r-source",
   "name": "R",
   "pygments_lexer": "r",
   "version": "4.0.5"
  }
 },
 "nbformat": 4,
 "nbformat_minor": 5
}
